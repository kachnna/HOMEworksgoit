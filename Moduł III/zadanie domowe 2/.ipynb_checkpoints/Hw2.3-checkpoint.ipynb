{
 "cells": [
  {
   "cell_type": "code",
   "execution_count": 1,
   "id": "f1147231-881f-4b5a-a938-b0420cc3849f",
   "metadata": {},
   "outputs": [],
   "source": [
    "import pandas as pd\n",
    "import numpy as np\n",
    "import matplotlib.pyplot as plt\n",
    "import seaborn as sns\n",
    "\n",
    "df = pd.read_csv(\"bestsellers_with_categories.csv\")"
   ]
  },
  {
   "cell_type": "markdown",
   "id": "dddc3681-96bb-4342-9027-bf60672f6a05",
   "metadata": {},
   "source": [
    "# Wyświetl pierwsze pięć wierszy (użyj funkcji head)"
   ]
  },
  {
   "cell_type": "code",
   "execution_count": 2,
   "id": "f1497ebc-5f63-4141-b76f-7cc509e07039",
   "metadata": {},
   "outputs": [
    {
     "name": "stdout",
     "output_type": "stream",
     "text": [
      "                                                Name  \\\n",
      "0                      10-Day Green Smoothie Cleanse   \n",
      "1                                  11/22/63: A Novel   \n",
      "2            12 Rules for Life: An Antidote to Chaos   \n",
      "3                             1984 (Signet Classics)   \n",
      "4  5,000 Awesome Facts (About Everything!) (Natio...   \n",
      "\n",
      "                     Author  User Rating  Reviews  Price  Year        Genre  \n",
      "0                  JJ Smith          4.7    17350      8  2016  Non Fiction  \n",
      "1              Stephen King          4.6     2052     22  2011      Fiction  \n",
      "2        Jordan B. Peterson          4.7    18979     15  2018  Non Fiction  \n",
      "3             George Orwell          4.7    21424      6  2017      Fiction  \n",
      "4  National Geographic Kids          4.8     7665     12  2019  Non Fiction  \n"
     ]
    }
   ],
   "source": [
    "print(df.head())"
   ]
  },
  {
   "cell_type": "markdown",
   "id": "f2d945f9-dbaa-4038-81ae-9b4ed8a07490",
   "metadata": {},
   "source": [
    "# Wyświetl wymiary zbioru danych (użyj atrybutu shape)"
   ]
  },
  {
   "cell_type": "code",
   "execution_count": 3,
   "id": "d169c334-dcc1-42a7-8938-edb3c7da76a9",
   "metadata": {},
   "outputs": [
    {
     "name": "stdout",
     "output_type": "stream",
     "text": [
      "(550, 7)\n"
     ]
    }
   ],
   "source": [
    "print(df.shape)"
   ]
  },
  {
   "cell_type": "markdown",
   "id": "a0be4e4f-fb3d-4650-9cdf-0be40063f308",
   "metadata": {},
   "source": [
    "# O ilu książkach przechowywane są dane w zbiorze danych?"
   ]
  },
  {
   "cell_type": "code",
   "execution_count": 4,
   "id": "dc32496a-d7d8-46f7-9aa8-798d4bf15066",
   "metadata": {},
   "outputs": [
    {
     "name": "stdout",
     "output_type": "stream",
     "text": [
      "Zbiór danych przechowuje informacje o 550 ksiazkach.\n"
     ]
    }
   ],
   "source": [
    "print(f\"Zbiór danych przechowuje informacje o {df.shape[0]} ksiazkach.\")"
   ]
  },
  {
   "cell_type": "markdown",
   "id": "68fb14b9-f2b0-4ed9-892c-e120973ba6a0",
   "metadata": {},
   "source": [
    "# Dla każdej z książek dostępnych jest 7 zmiennych (kolumn)."
   ]
  },
  {
   "cell_type": "code",
   "execution_count": 5,
   "id": "f17b8d20-794d-49f2-85e8-05dba8029ba3",
   "metadata": {},
   "outputs": [
    {
     "name": "stdout",
     "output_type": "stream",
     "text": [
      "                                                  name  \\\n",
      "0                        10-Day Green Smoothie Cleanse   \n",
      "1                                    11/22/63: A Novel   \n",
      "2              12 Rules for Life: An Antidote to Chaos   \n",
      "3                               1984 (Signet Classics)   \n",
      "4    5,000 Awesome Facts (About Everything!) (Natio...   \n",
      "..                                                 ...   \n",
      "545       Wrecking Ball (Diary of a Wimpy Kid Book 14)   \n",
      "546  You Are a Badass: How to Stop Doubting Your Gr...   \n",
      "547  You Are a Badass: How to Stop Doubting Your Gr...   \n",
      "548  You Are a Badass: How to Stop Doubting Your Gr...   \n",
      "549  You Are a Badass: How to Stop Doubting Your Gr...   \n",
      "\n",
      "                       author  user_rating  reviews  price  year        genre  \n",
      "0                    JJ Smith          4.7    17350      8  2016  Non Fiction  \n",
      "1                Stephen King          4.6     2052     22  2011      Fiction  \n",
      "2          Jordan B. Peterson          4.7    18979     15  2018  Non Fiction  \n",
      "3               George Orwell          4.7    21424      6  2017      Fiction  \n",
      "4    National Geographic Kids          4.8     7665     12  2019  Non Fiction  \n",
      "..                        ...          ...      ...    ...   ...          ...  \n",
      "545               Jeff Kinney          4.9     9413      8  2019      Fiction  \n",
      "546               Jen Sincero          4.7    14331      8  2016  Non Fiction  \n",
      "547               Jen Sincero          4.7    14331      8  2017  Non Fiction  \n",
      "548               Jen Sincero          4.7    14331      8  2018  Non Fiction  \n",
      "549               Jen Sincero          4.7    14331      8  2019  Non Fiction  \n",
      "\n",
      "[550 rows x 7 columns]\n"
     ]
    }
   ],
   "source": [
    "df.columns = ['name', 'author', 'user_rating', 'reviews', 'price', 'year', 'genre']\n",
    "print(df)"
   ]
  },
  {
   "cell_type": "markdown",
   "id": "df30a0c1-5e1f-45b6-84e0-b1dea9588cbe",
   "metadata": {},
   "source": [
    "# Pierwotne badanie danych"
   ]
  },
  {
   "cell_type": "markdown",
   "id": "cd20fdd2-c5ce-4ca2-a147-fc86fb2bf4fa",
   "metadata": {},
   "source": [
    "* Sprawdź, czy wszystkie wiersze zawierają wystarczającą ilość danych: wypisz liczbę pustych miejsc (na) w każdej kolumnie (użyj funkcji isna i sum)."
   ]
  },
  {
   "cell_type": "code",
   "execution_count": 6,
   "id": "1c144e5b-0a3b-4e4b-bbe3-16c3deef4dc4",
   "metadata": {},
   "outputs": [
    {
     "name": "stdout",
     "output_type": "stream",
     "text": [
      "name           0\n",
      "author         0\n",
      "user_rating    0\n",
      "reviews        0\n",
      "price          0\n",
      "year           0\n",
      "genre          0\n",
      "dtype: int64\n"
     ]
    }
   ],
   "source": [
    "df_count_na = df.isna().sum()\n",
    "print(df_count_na)"
   ]
  },
  {
   "cell_type": "markdown",
   "id": "3b531c0a-6866-4d58-ac0b-9e816cdc6711",
   "metadata": {},
   "source": [
    " Czy są jakieś zmienne z brakującymi wartościami? (Nie)"
   ]
  },
  {
   "cell_type": "markdown",
   "id": "9030dcc8-8d38-4371-919b-d5f7aa1395a5",
   "metadata": {},
   "source": [
    "* Sprawdź unikalne wartości w kolumnie genre (użyj funkcji unique)."
   ]
  },
  {
   "cell_type": "code",
   "execution_count": 7,
   "id": "00be583e-64c8-4533-9538-d5e6d74419ea",
   "metadata": {},
   "outputs": [
    {
     "name": "stdout",
     "output_type": "stream",
     "text": [
      "['Non Fiction' 'Fiction']\n"
     ]
    }
   ],
   "source": [
    "df_genre_unique = df[\"genre\"].unique()\n",
    "print(df_genre_unique)"
   ]
  },
  {
   "cell_type": "markdown",
   "id": "a1992f5c-1d6b-416a-878b-70a14659f5ab",
   "metadata": {},
   "source": [
    " Jakie są unikalne gatunki?\n",
    " 'Non Fiction' i 'Fiction'"
   ]
  },
  {
   "cell_type": "markdown",
   "id": "f1cfc1f1-4d2a-4eca-8a3b-f3b618d754a4",
   "metadata": {},
   "source": [
    "* Teraz spójrz na rozkład cen: zbuduj wykres (użyj kind='hist')"
   ]
  },
  {
   "cell_type": "code",
   "execution_count": 8,
   "id": "1caee0e9-1f0c-4384-970a-f776379a6a5a",
   "metadata": {},
   "outputs": [
    {
     "data": {
      "image/png": "[encoded data removed]",
      "text/plain": [
       "<Figure size 640x480 with 1 Axes>"
      ]
     },
     "metadata": {},
     "output_type": "display_data"
    }
   ],
   "source": [
    "plt.hist(df[\"price\"], bins=20)\n",
    "plt.title(\"Histogram - rozkład cen książek\")\n",
    "plt.show()"
   ]
  },
  {
   "cell_type": "markdown",
   "id": "50931763-00f5-482f-889b-06bc81ba4569",
   "metadata": {},
   "source": [
    "* Określ maksymalną, minimalną, średnią i medianową cenę (użyj funkcji max, min, mean, median)."
   ]
  },
  {
   "cell_type": "code",
   "execution_count": 9,
   "id": "d0859b4b-d0ce-4148-8f41-2c7c1b528988",
   "metadata": {},
   "outputs": [
    {
     "name": "stdout",
     "output_type": "stream",
     "text": [
      "Cena maksymalna to:  105\n",
      "Cena minimalna to:  0\n",
      "Średnia to:  13.1\n",
      "Mediana to:  11.0\n"
     ]
    }
   ],
   "source": [
    "print(\"Cena maksymalna to: \", df[\"price\"].max())\n",
    "print(\"Cena minimalna to: \", df[\"price\"].min())\n",
    "print(\"Średnia to: \", df[\"price\"].mean())\n",
    "print(\"Mediana to: \", df[\"price\"].median())"
   ]
  },
  {
   "cell_type": "markdown",
   "id": "f86859d5-06d0-4cfa-a4ef-40c7ec5cbd2a",
   "metadata": {},
   "source": [
    "# Wyszukiwanie i sortowanie danych"
   ]
  },
  {
   "cell_type": "markdown",
   "id": "f5dbc9e3-6d64-49ba-9e2f-26db3b5c2f0c",
   "metadata": {},
   "source": [
    "* Jaka jest najwyższa ocena w zbiorze danych?"
   ]
  },
  {
   "cell_type": "code",
   "execution_count": 10,
   "id": "57459359-a4d1-46ac-9d86-74a139aa6729",
   "metadata": {},
   "outputs": [
    {
     "name": "stdout",
     "output_type": "stream",
     "text": [
      "Odpowiedź: Najwyższa ocena w zbiorze danych to:  4.9\n"
     ]
    }
   ],
   "source": [
    "max_price = df[\"user_rating\"].max()\n",
    "print(\"Odpowiedź: Najwyższa ocena w zbiorze danych to: \", max_price)"
   ]
  },
  {
   "cell_type": "markdown",
   "id": "0928012d-ed66-4cfc-896c-d5e7e94c9f06",
   "metadata": {},
   "source": [
    "* Ile książek ma taką ocenę?"
   ]
  },
  {
   "cell_type": "code",
   "execution_count": 11,
   "id": "869a062f-dc1c-4ecb-a9b2-a8334436e074",
   "metadata": {},
   "outputs": [
    {
     "name": "stdout",
     "output_type": "stream",
     "text": [
      "Odpowiedź: 52 książek ma taką ocenę.\n"
     ]
    }
   ],
   "source": [
    "max_price = df[\"user_rating\"].max()\n",
    "count_df_max_price = df[df[\"user_rating\"] == max_price].shape[0]\n",
    "print(f\"Odpowiedź: {count_df_max_price} książek ma taką ocenę.\")"
   ]
  },
  {
   "cell_type": "markdown",
   "id": "142c5024-b56f-49bf-948f-1b32ce0d473c",
   "metadata": {},
   "source": [
    "* Która książka ma najwięcej recenzji? "
   ]
  },
  {
   "cell_type": "code",
   "execution_count": 12,
   "id": "5286d8f3-1a63-4e05-927c-dd540c733fe0",
   "metadata": {},
   "outputs": [
    {
     "name": "stdout",
     "output_type": "stream",
     "text": [
      "Odpowiedź: Najwięcej wyświetleń ma ksiażka:  534    Where the Crawdads Sing\n",
      "Name: name, dtype: object\n"
     ]
    }
   ],
   "source": [
    "max_reviews = df[\"reviews\"].max()\n",
    "df_max_reviews = df[df[\"reviews\"] == max_reviews][\"name\"]\n",
    "print(\"Odpowiedź: Najwięcej wyświetleń ma ksiażka: \", df_max_reviews)"
   ]
  },
  {
   "cell_type": "markdown",
   "id": "4a99d63b-c44e-4641-80b2-db7d3bb03630",
   "metadata": {},
   "source": [
    "* Która z książek z Top 50 w 2015 roku jest najdroższa (możesz użyć pośredniej ramki danych)?"
   ]
  },
  {
   "cell_type": "code",
   "execution_count": 13,
   "id": "a9ef3f51-6a4c-4bf4-b9ab-8e3455dab245",
   "metadata": {},
   "outputs": [
    {
     "name": "stdout",
     "output_type": "stream",
     "text": [
      "name           Publication Manual of the American Psychologic...\n",
      "author                        American Psychological Association\n",
      "user_rating                                                  4.5\n",
      "reviews                                                     8580\n",
      "price                                                         46\n",
      "year                                                        2015\n",
      "genre                                                Non Fiction\n",
      "Name: 277, dtype: object\n"
     ]
    }
   ],
   "source": [
    "books_2015 = df[df[\"year\"] == 2015]\n",
    "books_2015_top50 = books_2015.nlargest(50, \"user_rating\")\n",
    "books_2015_top50_max_price = books_2015_top50.loc[books_2015_top50[\"price\"].idxmax()]\n",
    "print(books_2015_top50_max_price)"
   ]
  },
  {
   "cell_type": "markdown",
   "id": "78bdb0be-464a-4edc-b601-90a70c8b2663",
   "metadata": {},
   "source": [
    "* Ile książek z gatunku Fiction znalazło się w Top 50 w 2010 roku (użyj &)?"
   ]
  },
  {
   "cell_type": "code",
   "execution_count": 14,
   "id": "36141da1-9c45-4236-97e2-d6ad968a99fc",
   "metadata": {},
   "outputs": [
    {
     "name": "stdout",
     "output_type": "stream",
     "text": [
      "Odpowiedź: W top 50 znalazło się 20 książek z 2010 i gatunku Fiction.\n"
     ]
    }
   ],
   "source": [
    "books_2010_non_fiction = df[(df[\"year\"] == 2010) & (df[\"genre\"] == \"Fiction\")]\n",
    "books_2010_non_fiction_top50 = books_2010_non_fiction.nlargest(50, \"user_rating\").shape[0]\n",
    "print(f\"Odpowiedź: W top 50 znalazło się {books_2010_non_fiction_top50} książek z 2010 i gatunku Fiction.\")"
   ]
  },
  {
   "cell_type": "markdown",
   "id": "7e4de576-ea5b-421b-8c95-2066979a874c",
   "metadata": {},
   "source": [
    "* Ile książek z oceną 4,9 znalazło się w rankingu w 2010 i 2011 roku (użyj | lub funkcji isin)?"
   ]
  },
  {
   "cell_type": "code",
   "execution_count": 15,
   "id": "c24f666a-2545-4518-a2bf-a452d52d7adb",
   "metadata": {},
   "outputs": [
    {
     "name": "stdout",
     "output_type": "stream",
     "text": [
      "Odpowiedź: 1 książka/książek.\n"
     ]
    }
   ],
   "source": [
    "books_user_rating = df[df[\"user_rating\"] == 4.9]\n",
    "\n",
    "books_2010_top50 = (df[df[\"year\"] == 2010]).nlargest(50, \"user_rating\")\n",
    "books_2011_top50 = (df[df[\"year\"] == 2011]).nlargest(50, \"user_rating\")\n",
    "books_user_rating_in_books_2010_top50 = books_2010_top50[\"user_rating\"].isin([4.9])\n",
    "books_user_rating_in_books_2011_top50 = books_2011_top50[\"user_rating\"].isin([4.9])\n",
    "count_books_user_rating_in_books_2010_top50 = books_2010_top50[books_user_rating_in_books_2010_top50].shape[0]\n",
    "count_books_user_rating_in_books_2011_top50 = books_2011_top50[books_user_rating_in_books_2011_top50].shape[0]\n",
    "total = count_books_user_rating_in_books_2010_top50 + count_books_user_rating_in_books_2011_top50\n",
    "print(f\"Odpowiedź: {total} książka/książek.\")"
   ]
  },
  {
   "cell_type": "markdown",
   "id": "ea8ae276-28a5-4ad7-a7f3-bb2b7bf32a4f",
   "metadata": {},
   "source": [
    "* Która książka jest ostatnia na posortowanej liście?"
   ]
  },
  {
   "cell_type": "code",
   "execution_count": 16,
   "id": "c0ca9587-862c-49bf-bbcc-7969da6f7086",
   "metadata": {},
   "outputs": [
    {
     "name": "stdout",
     "output_type": "stream",
     "text": [
      "                                                  name              author  \\\n",
      "507                              To Kill a Mockingbird          Harper Lee   \n",
      "111                                    First 100 Words        Roger Priddy   \n",
      "123                               Giraffes Can't Dance       Giles Andreae   \n",
      "210                      Laugh-Out-Loud Jokes for Kids         Rob Elliott   \n",
      "54   Creative Haven Creative Cats Coloring Book (Ad...     Marjorie Sarnat   \n",
      "206                         Knock-Knock Jokes for Kids         Rob Elliott   \n",
      "28                        Baby Touch and Feel: Animals                  DK   \n",
      "201  Killing Reagan: The Violent Assault That Chang...       Bill O'Reilly   \n",
      "89   Dover Creative Haven Art Nouveau Animal Design...         Marty Noble   \n",
      "478                        The Very Hungry Caterpillar          Eric Carle   \n",
      "55   Creative Haven Owls Coloring Book (Adult Color...     Marjorie Sarnat   \n",
      "224                                   Love You Forever       Robert Munsch   \n",
      "63                      Dear Zoo: A Lift-the-Flap Book        Rod Campbell   \n",
      "16   Adult Coloring Book: Stress Relieving Animal D...  Blue Star Coloring   \n",
      "376  The Four Agreements: A Practical Guide to Pers...     Don Miguel Ruiz   \n",
      "17      Adult Coloring Book: Stress Relieving Patterns  Blue Star Coloring   \n",
      "253              Old School (Diary of a Wimpy Kid #10)         Jeff Kinney   \n",
      "\n",
      "     user_rating  reviews  price  year        genre  \n",
      "507          4.8    26234      0  2015      Fiction  \n",
      "111          4.7    17323      4  2015  Non Fiction  \n",
      "123          4.8    14038      4  2015      Fiction  \n",
      "210          4.6     6990      4  2015  Non Fiction  \n",
      "54           4.8     4022      4  2015  Non Fiction  \n",
      "206          4.5     3673      4  2015  Non Fiction  \n",
      "28           4.6     5360      5  2015  Non Fiction  \n",
      "201          4.6     5235      5  2015  Non Fiction  \n",
      "89           4.6     2134      5  2015  Non Fiction  \n",
      "478          4.9    19546      5  2015      Fiction  \n",
      "55           4.8     3871      5  2015  Non Fiction  \n",
      "224          4.8    18613      5  2015      Fiction  \n",
      "63           4.8    10922      5  2015      Fiction  \n",
      "16           4.6     2925      6  2015  Non Fiction  \n",
      "376          4.7    23308      6  2015  Non Fiction  \n",
      "17           4.4     2951      6  2015  Non Fiction  \n",
      "253          4.8     6169      7  2015      Fiction  \n"
     ]
    }
   ],
   "source": [
    "books_2015_less8dolar_top50 = (df[(df[\"year\"] == 2015) & (df[\"price\"] < 8)]).nlargest(50, \"user_rating\").sort_values(\"price\")\n",
    "print(books_2015_less8dolar_top50)"
   ]
  },
  {
   "cell_type": "markdown",
   "id": "b3459e76-9bde-4189-bbd8-022a8fc80e46",
   "metadata": {},
   "source": [
    "# Agregacja danych i łączenie tabel"
   ]
  },
  {
   "cell_type": "markdown",
   "id": "e4117613-d66f-4532-af82-c52f536b223f",
   "metadata": {},
   "source": [
    "Najpierw przyjrzyjmy się maksymalnym i minimalnym cenom dla każdego gatunku (użyj funkcji groupby i agg oraz max i min, aby obliczyć wartości minimalne i maksymalne). Nie wybieraj wszystkich kolumn, tylko te, których potrzebujesz."
   ]
  },
  {
   "cell_type": "code",
   "execution_count": 17,
   "id": "be7762bb-bd81-424b-8c11-da2b3fe4d7ef",
   "metadata": {},
   "outputs": [
    {
     "name": "stdout",
     "output_type": "stream",
     "text": [
      "            price    \n",
      "              max min\n",
      "genre                \n",
      "Fiction        82   0\n",
      "Non Fiction   105   0\n"
     ]
    }
   ],
   "source": [
    "price_stats = df.groupby(\"genre\").agg({\"price\": [\"max\", \"min\"]})\n",
    "print(price_stats)"
   ]
  },
  {
   "cell_type": "markdown",
   "id": "db8fdc39-4e33-429e-abb1-a6789dbaee0e",
   "metadata": {},
   "source": [
    "Teraz utwórz nową ramkę danych, która będzie przechowywać liczbę książek dla każdego autora (użyj funkcji groupby i agg, następnie użyj count, aby policzyć liczbę). Nie bierz wszystkich kolumn, wybierz tylko te niezbędne."
   ]
  },
  {
   "cell_type": "code",
   "execution_count": 18,
   "id": "fe2e6fa3-6814-4a16-8716-a836b97a7b76",
   "metadata": {},
   "outputs": [
    {
     "name": "stdout",
     "output_type": "stream",
     "text": [
      "                            book_count\n",
      "author                                \n",
      "Abraham Verghese                     2\n",
      "Adam Gasiewski                       1\n",
      "Adam Mansbach                        1\n",
      "Adir Levy                            1\n",
      "Admiral William H. McRaven           1\n",
      "...                                ...\n",
      "Walter Isaacson                      3\n",
      "William Davis                        2\n",
      "William P. Young                     2\n",
      "Wizards RPG Team                     3\n",
      "Zhi Gang Sha                         2\n",
      "\n",
      "[248 rows x 1 columns]\n",
      "Odpowiedź: Jeff Kinney ma najwięcej książek, liczba książek: 12\n"
     ]
    }
   ],
   "source": [
    "author_book_count = df.groupby(\"author\").agg({\"name\": \"count\"}).rename(columns={\"name\": \"book_count\"})\n",
    "print(author_book_count)\n",
    "\n",
    "most_books_author = author_book_count.idxmax().values[0]\n",
    "most_books_count = author_book_count.max().values[0]\n",
    "print(f\"Odpowiedź: {most_books_author} ma najwięcej książek, liczba książek: {most_books_count}\")"
   ]
  },
  {
   "cell_type": "markdown",
   "id": "86182d9b-f980-44f6-a41b-435099e66a6f",
   "metadata": {},
   "source": [
    "Teraz utwórz drugą ramkę danych, która będzie zawierać średnią ocenę dla każdego autora (użyj funkcji groupby i agg, następnie użyj mean do obliczenia średniej). Nie bierz wszystkich kolumn, wybierz tylko te niezbędne."
   ]
  },
  {
   "cell_type": "code",
   "execution_count": 19,
   "id": "d20705d6-913d-4169-9eae-f022f53028ac",
   "metadata": {},
   "outputs": [
    {
     "name": "stdout",
     "output_type": "stream",
     "text": [
      "                            avg_rating\n",
      "author                                \n",
      "Abraham Verghese              4.600000\n",
      "Adam Gasiewski                4.400000\n",
      "Adam Mansbach                 4.800000\n",
      "Adir Levy                     4.800000\n",
      "Admiral William H. McRaven    4.700000\n",
      "...                                ...\n",
      "Walter Isaacson               4.566667\n",
      "William Davis                 4.400000\n",
      "William P. Young              4.600000\n",
      "Wizards RPG Team              4.800000\n",
      "Zhi Gang Sha                  4.600000\n",
      "\n",
      "[248 rows x 1 columns]\n",
      "Odpowiedź: Donna Tartt ma najniższą średnią ocenę, średnia ocena: 3.9\n"
     ]
    }
   ],
   "source": [
    "author_avg_rating = df.groupby(\"author\").agg({\"user_rating\": \"mean\"}).rename(columns={\"user_rating\": \"avg_rating\"})\n",
    "print(author_avg_rating)\n",
    "lowest_avg_rating_author = author_avg_rating.idxmin().values[0]\n",
    "lowest_avg_rating = author_avg_rating.min().values[0]\n",
    "print(f\"Odpowiedź: {lowest_avg_rating_author} ma najniższą średnią ocenę, średnia ocena: {lowest_avg_rating}\")"
   ]
  },
  {
   "cell_type": "markdown",
   "id": "e1e2b482-2a21-4167-9990-85e4260c178b",
   "metadata": {},
   "source": [
    "Połącz dwie ostatnie ramki danych, aby zobaczyć liczbę książek i średnią ocenę dla każdego autora (użyj funkcji concat z axis=1). Zapisz wynik do zmiennej."
   ]
  },
  {
   "cell_type": "code",
   "execution_count": 20,
   "id": "a11722ab-e4bd-4627-8e0b-91fd48f05fcd",
   "metadata": {},
   "outputs": [
    {
     "name": "stdout",
     "output_type": "stream",
     "text": [
      "Odpowiedź: Pierwszy autor na liście to: Muriel Barbery\n"
     ]
    }
   ],
   "source": [
    "author_stats = pd.concat([author_book_count, author_avg_rating], axis=1)\n",
    "author_stats_sorted = author_stats.sort_values(by=[\"book_count\", \"avg_rating\"], ascending=True)\n",
    "print(\"Odpowiedź: Pierwszy autor na liście to:\", author_stats_sorted.index[0])"
   ]
  },
  {
   "cell_type": "markdown",
   "id": "80c3d7f7-5554-4b38-9be9-f22fe0550076",
   "metadata": {},
   "source": [
    "# Dodatkowe wykresy"
   ]
  },
  {
   "cell_type": "code",
   "execution_count": 21,
   "id": "05809b1c-c87d-46ea-bd71-57d81c39ee9b",
   "metadata": {},
   "outputs": [
    {
     "data": {
      "image/png": "[encoded data removed]",
      "text/plain": [
       "<Figure size 1000x600 with 1 Axes>"
      ]
     },
     "metadata": {},
     "output_type": "display_data"
    }
   ],
   "source": [
    "plt.figure(figsize=(10, 6))\n",
    "sns.histplot(df['user_rating'], bins=10, kde=True, color='skyblue')\n",
    "plt.title('Histogram ocen użytkowników')\n",
    "plt.xlabel('Ocena użytkownika')\n",
    "plt.ylabel('Częstotliwość')\n",
    "plt.show()"
   ]
  },
  {
   "cell_type": "code",
   "execution_count": 22,
   "id": "caeb2595-9c42-4260-a2f5-81b8cf44fbc2",
   "metadata": {},
   "outputs": [
    {
     "data": {
      "image/png": "[encoded data removed]",
      "text/plain": [
       "<Figure size 1000x600 with 1 Axes>"
      ]
     },
     "metadata": {},
     "output_type": "display_data"
    }
   ],
   "source": [
    "plt.figure(figsize=(10, 6))\n",
    "avg_price_year = df.groupby('year')['price'].mean().reset_index()\n",
    "sns.lineplot(x='year', y='price', data=avg_price_year, marker='o', color='coral')\n",
    "plt.title('Średnia cena w poszczególnych latach')\n",
    "plt.xlabel('Rok')\n",
    "plt.ylabel('Średnia cena')\n",
    "plt.show()"
   ]
  },
  {
   "cell_type": "code",
   "execution_count": 24,
   "id": "5436bb93-cc20-4d09-b35e-007e689778ea",
   "metadata": {},
   "outputs": [
    {
     "data": {
      "image/png": "[encoded data removed]",
      "text/plain": [
       "<Figure size 1000x600 with 1 Axes>"
      ]
     },
     "metadata": {},
     "output_type": "display_data"
    }
   ],
   "source": [
    "plt.figure(figsize=(10, 6))\n",
    "sns.countplot(x='genre', hue='genre', data=df, palette='pastel', legend=False)\n",
    "plt.title('Liczba książek według gatunku')\n",
    "plt.xlabel('Gatunek')\n",
    "plt.ylabel('Liczba')\n",
    "plt.show()"
   ]
  },
  {
   "cell_type": "code",
   "execution_count": null,
   "id": "e9ef8a8d-8f7b-418d-bd2a-8af56b639260",
   "metadata": {},
   "outputs": [],
   "source": []
  }
 ],
 "metadata": {
  "kernelspec": {
   "display_name": "Python 3 (ipykernel)",
   "language": "python",
   "name": "python3"
  },
  "language_info": {
   "codemirror_mode": {
    "name": "ipython",
    "version": 3
   },
   "file_extension": ".py",
   "mimetype": "text/x-python",
   "name": "python",
   "nbconvert_exporter": "python",
   "pygments_lexer": "ipython3",
   "version": "3.11.4"
  }
 },
 "nbformat": 4,
 "nbformat_minor": 5
}
