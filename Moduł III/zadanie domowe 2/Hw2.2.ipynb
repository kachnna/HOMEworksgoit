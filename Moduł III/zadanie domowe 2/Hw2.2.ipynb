{
 "cells": [
  {
   "cell_type": "code",
   "execution_count": 1,
   "id": "0ad3c585-2911-412b-9b2a-610c714d23fe",
   "metadata": {},
   "outputs": [],
   "source": [
    "import pandas as pd\n",
    "import numpy as np\n",
    "import matplotlib.pyplot as plt"
   ]
  },
  {
   "cell_type": "markdown",
   "id": "7925c842-d288-4d24-bfd6-9015d8548216",
   "metadata": {},
   "source": [
    "# Odczytaj plik 2017_jun_final.csv przy użyciu metody read_csv"
   ]
  },
  {
   "cell_type": "code",
   "execution_count": 2,
   "id": "db828a53-69e9-4bb8-87a1-6077bb4b3bb2",
   "metadata": {},
   "outputs": [
    {
     "name": "stdout",
     "output_type": "stream",
     "text": [
      "         N                      Role Programming language Specialisation   \\\n",
      "0        1        Junior QA engineer                  NaN       Manual QA   \n",
      "1        2        Junior QA engineer                  NaN       Manual QA   \n",
      "2        3         Software Engineer              C#/.NET             NaN   \n",
      "3        4         Software Engineer           JavaScript             NaN   \n",
      "4        5  Senior Software Engineer           JavaScript             NaN   \n",
      "...    ...                       ...                  ...             ...   \n",
      "8699  8700               QA engineer                  NaN       Manual QA   \n",
      "8700  8701                 Marketing                  NaN             NaN   \n",
      "8701  8702  Junior Software Engineer           Ruby/Rails             NaN   \n",
      "8702  8703                 Team lead                  NaN             NaN   \n",
      "8703  8704  Senior Software Engineer                 Java             NaN   \n",
      "\n",
      "            Experience  Experience on current job  Salary/month  \\\n",
      "0                   0.5                       0.5           400   \n",
      "1     loss then 3 month         loss then 3 month           430   \n",
      "2                     4                         1          2500   \n",
      "3                     5                         4          2000   \n",
      "4                  10+                        0.5          4500   \n",
      "...                 ...                       ...           ...   \n",
      "8699                  1         loss then 3 month           700   \n",
      "8700                0.5                       0.5           400   \n",
      "8701                  1                       0.5           800   \n",
      "8702                  6                         4          2600   \n",
      "8703                  7                         2          5000   \n",
      "\n",
      "      Изменение.зарплаты.за.12.месяцев       City              Company size  \\\n",
      "0                                    0  New York         up to 10 employees   \n",
      "1                                  130  New York   more then 1000 employees   \n",
      "2                                  800     Berlin      up to 1000 employees   \n",
      "3                                  400      Odesa       up to 200 employees   \n",
      "4                                  500      Other        up to 10 employees   \n",
      "...                                ...        ...                       ...   \n",
      "8699                               700      Odesa        up to 50 employees   \n",
      "8700                               120     Berlin        up to 50 employees   \n",
      "8701                               500       Rome        up to 10 employees   \n",
      "8702                                 0      Paris  more then 1000 employees   \n",
      "8703                               800      Odesa      up to 1000 employees   \n",
      "\n",
      "      ... Still student English                           Subject.area  \\\n",
      "0     ...          True       A1                         iOS,eCommerce   \n",
      "1     ...          True       B2                       Web development   \n",
      "2     ...         False       B1   Web development,Corporative systems   \n",
      "3     ...         False       A1  Desktop Applications,Web development   \n",
      "4     ...         False       B1  Desktop Applications,Web development   \n",
      "...   ...           ...      ...                                   ...   \n",
      "8699  ...         False       B1          Android,Desktop Applications   \n",
      "8700  ...         False       A1                             eCommerce   \n",
      "8701  ...         False       B2   Web development,Corporative systems   \n",
      "8702  ...         False       С1                               Finance   \n",
      "8703  ...         False       B2                       Web development   \n",
      "\n",
      "                     Date                                         User.Agent  \\\n",
      "0     12/06/2017 12:38:08  Mozilla/5.0 (Windows NT 10.0; Win64; x64) Appl...   \n",
      "1     12/06/2017 12:42:51  Mozilla/5.0 (iPad; CPU OS 10_2_1 like Mac OS X...   \n",
      "2     12/06/2017 13:02:47  Mozilla/5.0 (Windows NT 10.0; Win64; x64) Appl...   \n",
      "3     12/06/2017 13:03:01  Mozilla/5.0 (Windows NT 6.1; Win64; x64) Apple...   \n",
      "4     12/06/2017 13:03:47  Mozilla/5.0 (iPhone; CPU iPhone OS 10_3_2 like...   \n",
      "...                   ...                                                ...   \n",
      "8699  12/07/2017 15:45:24  Mozilla/5.0 (X11; Ubuntu; Linux x86_64; rv:54....   \n",
      "8700  12/07/2017 17:00:06  Mozilla/5.0 (Windows NT 10.0; Win64; x64) Appl...   \n",
      "8701  12/07/2017 17:32:26  Mozilla/5.0 (X11; Linux x86_64) AppleWebKit/53...   \n",
      "8702  12/07/2017 18:14:59  Mozilla/5.0 (Windows NT 6.1) AppleWebKit/537.3...   \n",
      "8703  12/07/2017 21:28:57  Mozilla/5.0 (iPad; CPU OS 10_3_2 like Mac OS X...   \n",
      "\n",
      "       exp current_job_exp salary Валюта  cls  \n",
      "0      0.5             0.5    400    NaN   QA  \n",
      "1      0.0             0.0    430    NaN   QA  \n",
      "2      4.0             1.0   2500    NaN  DEV  \n",
      "3      5.0             4.0   2000    NaN  DEV  \n",
      "4     10.0             0.5   4500    NaN  DEV  \n",
      "...    ...             ...    ...    ...  ...  \n",
      "8699   1.0             0.0    700    NaN   QA  \n",
      "8700   0.5             0.5    400    NaN  NaN  \n",
      "8701   1.0             0.5    800    NaN  DEV  \n",
      "8702   6.0             4.0   2600    NaN   PM  \n",
      "8703   7.0             2.0   5000    NaN  DEV  \n",
      "\n",
      "[8704 rows x 25 columns]\n"
     ]
    }
   ],
   "source": [
    "df = pd.read_csv('2017_jun_final.csv')\n",
    "print(df)"
   ]
  },
  {
   "cell_type": "markdown",
   "id": "3c909775-7d60-4080-834d-579bb842c0d6",
   "metadata": {},
   "source": [
    "# Odczytaj tabelę wynikową przy użyciu metody head"
   ]
  },
  {
   "cell_type": "code",
   "execution_count": 3,
   "id": "815c2fea-8003-4013-86e1-924769929cb1",
   "metadata": {},
   "outputs": [
    {
     "name": "stdout",
     "output_type": "stream",
     "text": [
      "   N                      Role Programming language Specialisation   \\\n",
      "0  1        Junior QA engineer                  NaN       Manual QA   \n",
      "1  2        Junior QA engineer                  NaN       Manual QA   \n",
      "2  3         Software Engineer              C#/.NET             NaN   \n",
      "3  4         Software Engineer           JavaScript             NaN   \n",
      "4  5  Senior Software Engineer           JavaScript             NaN   \n",
      "\n",
      "         Experience  Experience on current job  Salary/month  \\\n",
      "0                0.5                       0.5           400   \n",
      "1  loss then 3 month         loss then 3 month           430   \n",
      "2                  4                         1          2500   \n",
      "3                  5                         4          2000   \n",
      "4               10+                        0.5          4500   \n",
      "\n",
      "   Изменение.зарплаты.за.12.месяцев       City              Company size  ...  \\\n",
      "0                                 0  New York         up to 10 employees  ...   \n",
      "1                               130  New York   more then 1000 employees  ...   \n",
      "2                               800     Berlin      up to 1000 employees  ...   \n",
      "3                               400      Odesa       up to 200 employees  ...   \n",
      "4                               500      Other        up to 10 employees  ...   \n",
      "\n",
      "  Still student English                           Subject.area  \\\n",
      "0          True       A1                         iOS,eCommerce   \n",
      "1          True       B2                       Web development   \n",
      "2         False       B1   Web development,Corporative systems   \n",
      "3         False       A1  Desktop Applications,Web development   \n",
      "4         False       B1  Desktop Applications,Web development   \n",
      "\n",
      "                  Date                                         User.Agent  \\\n",
      "0  12/06/2017 12:38:08  Mozilla/5.0 (Windows NT 10.0; Win64; x64) Appl...   \n",
      "1  12/06/2017 12:42:51  Mozilla/5.0 (iPad; CPU OS 10_2_1 like Mac OS X...   \n",
      "2  12/06/2017 13:02:47  Mozilla/5.0 (Windows NT 10.0; Win64; x64) Appl...   \n",
      "3  12/06/2017 13:03:01  Mozilla/5.0 (Windows NT 6.1; Win64; x64) Apple...   \n",
      "4  12/06/2017 13:03:47  Mozilla/5.0 (iPhone; CPU iPhone OS 10_3_2 like...   \n",
      "\n",
      "    exp current_job_exp salary Валюта  cls  \n",
      "0   0.5             0.5    400    NaN   QA  \n",
      "1   0.0             0.0    430    NaN   QA  \n",
      "2   4.0             1.0   2500    NaN  DEV  \n",
      "3   5.0             4.0   2000    NaN  DEV  \n",
      "4  10.0             0.5   4500    NaN  DEV  \n",
      "\n",
      "[5 rows x 25 columns]\n"
     ]
    }
   ],
   "source": [
    "print(df.head())"
   ]
  },
  {
   "cell_type": "markdown",
   "id": "e4640f7e-9b6b-4c10-b78e-6e9096ad3ca8",
   "metadata": {},
   "source": [
    "# Zdefiniuj rozmiar tabeli przy użyciu metody shape"
   ]
  },
  {
   "cell_type": "code",
   "execution_count": 4,
   "id": "eda2f541-dbd6-4cc2-b9ab-e97a257a8b5e",
   "metadata": {},
   "outputs": [
    {
     "name": "stdout",
     "output_type": "stream",
     "text": [
      "(8704, 25)\n"
     ]
    }
   ],
   "source": [
    "print(df.shape)"
   ]
  },
  {
   "cell_type": "markdown",
   "id": "863aaed8-28d1-4648-a47f-fee0ad96e184",
   "metadata": {},
   "source": [
    "# Zdefiniuj typy wszystkich kolumn za pomocą metody dataframe.dtypes"
   ]
  },
  {
   "cell_type": "code",
   "execution_count": 5,
   "id": "43520e03-3457-4c0d-b8ef-737bcb8167bd",
   "metadata": {},
   "outputs": [
    {
     "name": "stdout",
     "output_type": "stream",
     "text": [
      "N                                     int64\n",
      "Role                                 object\n",
      "Programming language                 object\n",
      "Specialisation                       object\n",
      "Experience                           object\n",
      "Experience on current job            object\n",
      "Salary/month                          int64\n",
      "Изменение.зарплаты.за.12.месяцев      int64\n",
      "City                                 object\n",
      "Company size                         object\n",
      "Company type                         object\n",
      "Gender                               object\n",
      "Age                                   int64\n",
      "Education                            object\n",
      "University                           object\n",
      "Still student                          bool\n",
      "English                              object\n",
      "Subject.area                         object\n",
      "Date                                 object\n",
      "User.Agent                           object\n",
      "exp                                 float64\n",
      "current_job_exp                     float64\n",
      "salary                                int64\n",
      "Валюта                               object\n",
      "cls                                  object\n",
      "dtype: object\n"
     ]
    }
   ],
   "source": [
    "print(df.dtypes)"
   ]
  },
  {
   "cell_type": "markdown",
   "id": "bdd42a5d-876d-4e3b-ba70-535411ace27f",
   "metadata": {},
   "source": [
    "# Oblicz proporcję spacji w każdej kolumnie (użyj metod isnull i sum)."
   ]
  },
  {
   "cell_type": "code",
   "execution_count": 6,
   "id": "81c5249f-1ccb-4e05-8168-df78de063b2c",
   "metadata": {},
   "outputs": [
    {
     "name": "stdout",
     "output_type": "stream",
     "text": [
      "N                                   0.000000\n",
      "Role                                0.000000\n",
      "Programming language                0.442325\n",
      "Specialisation                      0.829389\n",
      "Experience                          0.000000\n",
      "Experience on current job           0.000000\n",
      "Salary/month                        0.000000\n",
      "Изменение.зарплаты.за.12.месяцев    0.000000\n",
      "City                                0.000000\n",
      "Company size                        0.000000\n",
      "Company type                        0.000000\n",
      "Gender                              0.000000\n",
      "Age                                 0.000000\n",
      "Education                           0.000000\n",
      "University                          0.177619\n",
      "Still student                       0.000000\n",
      "English                             0.000000\n",
      "Subject.area                        0.025620\n",
      "Date                                0.000000\n",
      "User.Agent                          0.000000\n",
      "exp                                 0.000000\n",
      "current_job_exp                     0.000000\n",
      "salary                              0.000000\n",
      "Валюта                              0.998851\n",
      "cls                                 0.180836\n",
      "dtype: float64\n"
     ]
    }
   ],
   "source": [
    "print(df.isnull().mean())"
   ]
  },
  {
   "cell_type": "markdown",
   "id": "a1e75766-c16f-4e1c-a0c5-f3e0c12adcd9",
   "metadata": {},
   "source": [
    "# Usuń wszystkie kolumny ze spacjami z wyjątkiem kolumny \"Język programowania\""
   ]
  },
  {
   "cell_type": "code",
   "execution_count": 7,
   "id": "894ecdc4-123f-4ca4-98cf-29be9fc75467",
   "metadata": {},
   "outputs": [
    {
     "name": "stdout",
     "output_type": "stream",
     "text": [
      "Kolumny do usunięcia:  ['Specialisation ', 'University', 'Subject.area', 'Валюта', 'cls']\n",
      "Dane bez kolumn z pustymi wartościami:\n",
      "         N                      Role Programming language        Experience   \\\n",
      "0        1        Junior QA engineer                  NaN                0.5   \n",
      "1        2        Junior QA engineer                  NaN  loss then 3 month   \n",
      "2        3         Software Engineer              C#/.NET                  4   \n",
      "3        4         Software Engineer           JavaScript                  5   \n",
      "4        5  Senior Software Engineer           JavaScript               10+    \n",
      "...    ...                       ...                  ...                ...   \n",
      "8699  8700               QA engineer                  NaN                  1   \n",
      "8700  8701                 Marketing                  NaN                0.5   \n",
      "8701  8702  Junior Software Engineer           Ruby/Rails                  1   \n",
      "8702  8703                 Team lead                  NaN                  6   \n",
      "8703  8704  Senior Software Engineer                 Java                  7   \n",
      "\n",
      "     Experience on current job  Salary/month  \\\n",
      "0                          0.5           400   \n",
      "1            loss then 3 month           430   \n",
      "2                            1          2500   \n",
      "3                            4          2000   \n",
      "4                          0.5          4500   \n",
      "...                        ...           ...   \n",
      "8699         loss then 3 month           700   \n",
      "8700                       0.5           400   \n",
      "8701                       0.5           800   \n",
      "8702                         4          2600   \n",
      "8703                         2          5000   \n",
      "\n",
      "      Изменение.зарплаты.за.12.месяцев       City              Company size  \\\n",
      "0                                    0  New York         up to 10 employees   \n",
      "1                                  130  New York   more then 1000 employees   \n",
      "2                                  800     Berlin      up to 1000 employees   \n",
      "3                                  400      Odesa       up to 200 employees   \n",
      "4                                  500      Other        up to 10 employees   \n",
      "...                                ...        ...                       ...   \n",
      "8699                               700      Odesa        up to 50 employees   \n",
      "8700                               120     Berlin        up to 50 employees   \n",
      "8701                               500       Rome        up to 10 employees   \n",
      "8702                                 0      Paris  more then 1000 employees   \n",
      "8703                               800      Odesa      up to 1000 employees   \n",
      "\n",
      "     Company type  Gender  Age                    Education  Still student  \\\n",
      "0     Outsourcing  female   20  Unfinished Higher education           True   \n",
      "1     Outsourcing  female   21  Unfinished Higher education           True   \n",
      "2     Outsourcing    male   26             Higher education          False   \n",
      "3         product    male   30          Secondary education          False   \n",
      "4         product    male   30          Secondary education          False   \n",
      "...           ...     ...  ...                          ...            ...   \n",
      "8699  Outsourcing    male   23             Higher education          False   \n",
      "8700      product  female   22             Higher education          False   \n",
      "8701  Outstaffing    male   30  Unfinished Higher education          False   \n",
      "8702  Outsourcing    male   34             Higher education          False   \n",
      "8703      product    male   28             Higher education          False   \n",
      "\n",
      "     English                  Date  \\\n",
      "0          A1  12/06/2017 12:38:08   \n",
      "1          B2  12/06/2017 12:42:51   \n",
      "2          B1  12/06/2017 13:02:47   \n",
      "3          A1  12/06/2017 13:03:01   \n",
      "4          B1  12/06/2017 13:03:47   \n",
      "...       ...                  ...   \n",
      "8699       B1  12/07/2017 15:45:24   \n",
      "8700       A1  12/07/2017 17:00:06   \n",
      "8701       B2  12/07/2017 17:32:26   \n",
      "8702       С1  12/07/2017 18:14:59   \n",
      "8703       B2  12/07/2017 21:28:57   \n",
      "\n",
      "                                             User.Agent   exp  \\\n",
      "0     Mozilla/5.0 (Windows NT 10.0; Win64; x64) Appl...   0.5   \n",
      "1     Mozilla/5.0 (iPad; CPU OS 10_2_1 like Mac OS X...   0.0   \n",
      "2     Mozilla/5.0 (Windows NT 10.0; Win64; x64) Appl...   4.0   \n",
      "3     Mozilla/5.0 (Windows NT 6.1; Win64; x64) Apple...   5.0   \n",
      "4     Mozilla/5.0 (iPhone; CPU iPhone OS 10_3_2 like...  10.0   \n",
      "...                                                 ...   ...   \n",
      "8699  Mozilla/5.0 (X11; Ubuntu; Linux x86_64; rv:54....   1.0   \n",
      "8700  Mozilla/5.0 (Windows NT 10.0; Win64; x64) Appl...   0.5   \n",
      "8701  Mozilla/5.0 (X11; Linux x86_64) AppleWebKit/53...   1.0   \n",
      "8702  Mozilla/5.0 (Windows NT 6.1) AppleWebKit/537.3...   6.0   \n",
      "8703  Mozilla/5.0 (iPad; CPU OS 10_3_2 like Mac OS X...   7.0   \n",
      "\n",
      "      current_job_exp  salary  \n",
      "0                 0.5     400  \n",
      "1                 0.0     430  \n",
      "2                 1.0    2500  \n",
      "3                 4.0    2000  \n",
      "4                 0.5    4500  \n",
      "...               ...     ...  \n",
      "8699              0.0     700  \n",
      "8700              0.5     400  \n",
      "8701              0.5     800  \n",
      "8702              4.0    2600  \n",
      "8703              2.0    5000  \n",
      "\n",
      "[8704 rows x 20 columns]\n"
     ]
    }
   ],
   "source": [
    "df_empty_proportions = df.isnull().sum() / len(df)\n",
    "df_empty_proportions_columns = df_empty_proportions[df_empty_proportions > 0].index\n",
    "columns_to_drop = [col for col in df_empty_proportions_columns if col != \"Programming language\"]\n",
    "print(\"Kolumny do usunięcia: \", columns_to_drop)\n",
    "df_clean = df.drop(axis=1, columns=columns_to_drop)\n",
    "print(\"Dane bez kolumn z pustymi wartościami:\")\n",
    "print(df_clean)"
   ]
  },
  {
   "cell_type": "markdown",
   "id": "83712dc8-3f5f-4bfd-a2a5-740138831cae",
   "metadata": {},
   "source": [
    "# Ponownie policz odsetek pustych miejsc w każdej kolumnie i upewnij się, że pozostała tylko kolumna \"Język programowania\""
   ]
  },
  {
   "cell_type": "code",
   "execution_count": 8,
   "id": "718662c7-1acc-4e6b-838d-17cb571571c4",
   "metadata": {},
   "outputs": [
    {
     "name": "stdout",
     "output_type": "stream",
     "text": [
      "Kolumna z pustymi miejscami w danych DataFrame:\n",
      "Index(['Programming language'], dtype='object')\n"
     ]
    }
   ],
   "source": [
    "df_empty_proportions = df.isnull().sum() / len(df)\n",
    "df_empty_proportions = df_clean.isnull().sum() / len(df_clean)\n",
    "df_empty_proportions_columns = df_empty_proportions[df_empty_proportions > 0].index\n",
    "print(\"Kolumna z pustymi miejscami w danych DataFrame:\")\n",
    "print(df_empty_proportions_columns)"
   ]
  },
  {
   "cell_type": "markdown",
   "id": "ef25b0ee-b242-4bc9-bc47-0d25a53894b4",
   "metadata": {},
   "source": [
    "# Usuń wszystkie wiersze z oryginalnej tabeli za pomocą metody dropna"
   ]
  },
  {
   "cell_type": "code",
   "execution_count": 9,
   "id": "29086c71-09a2-4e34-9761-eb62eccb0754",
   "metadata": {},
   "outputs": [
    {
     "name": "stdout",
     "output_type": "stream",
     "text": [
      "Empty DataFrame\n",
      "Columns: [N, Role, Programming language, Specialisation , Experience , Experience on current job, Salary/month, Изменение.зарплаты.за.12.месяцев, City, Company size, Company type, Gender, Age, Education, University, Still student, English , Subject.area, Date, User.Agent, exp, current_job_exp, salary, Валюта, cls]\n",
      "Index: []\n",
      "\n",
      "[0 rows x 25 columns]\n"
     ]
    }
   ],
   "source": [
    "df_dropped_nan = df.dropna()\n",
    "print(df_dropped_nan)"
   ]
  },
  {
   "cell_type": "markdown",
   "id": "034a0e5d-3121-4370-abf3-b1d000beb22b",
   "metadata": {},
   "source": [
    "# Zdefiniuj nowy rozmiar tabeli za pomocą metody shape"
   ]
  },
  {
   "cell_type": "code",
   "execution_count": 10,
   "id": "561cdde8-507e-45b4-9fdf-232337bccc6b",
   "metadata": {},
   "outputs": [
    {
     "name": "stdout",
     "output_type": "stream",
     "text": [
      "(0, 25)\n"
     ]
    }
   ],
   "source": [
    "df_dropped_nan = df.dropna()\n",
    "print(df_dropped_nan.shape)"
   ]
  },
  {
   "cell_type": "markdown",
   "id": "dcfbbba3-5a9b-4f7e-8b94-79aed4e6ad49",
   "metadata": {},
   "source": [
    "# Utwórz nową tabelę python_data, która będzie zawierać tylko wiersze ze specjalistami, którzy podali język programowania Python"
   ]
  },
  {
   "cell_type": "markdown",
   "id": "4c071a62-882b-43ca-b19e-1a22b5993186",
   "metadata": {},
   "source": [
    "??"
   ]
  },
  {
   "cell_type": "markdown",
   "id": "00e35374-0113-4c7d-a04e-4489436f8f34",
   "metadata": {},
   "source": [
    "# Zdefiniuj rozmiar tabeli python_data za pomocą metody shape"
   ]
  },
  {
   "cell_type": "markdown",
   "id": "4fb5b2db-f5cd-4eb5-894f-bd0407e731a5",
   "metadata": {},
   "source": [
    "??"
   ]
  },
  {
   "cell_type": "markdown",
   "id": "5feb373b-2e67-4ca6-a465-38f9df95d55e",
   "metadata": {},
   "source": [
    "# Używając metody [groupby](https://pandas.pydata.org/docs/reference/api/pandas.DataFrame.groupby.html), pogrupuj według kolumny \"Stanowisko\""
   ]
  },
  {
   "cell_type": "code",
   "execution_count": 11,
   "id": "6e9b6a02-f676-47a7-a5db-49b7a8c3408a",
   "metadata": {},
   "outputs": [
    {
     "name": "stdout",
     "output_type": "stream",
     "text": [
      "Role\n",
      "Business analyst                               150\n",
      "DBA                                             26\n",
      "Data Scientist / Data Analyst                   79\n",
      "Designer                                       223\n",
      "DevOps                                         170\n",
      "Director of Engineering / Program Director      44\n",
      "ERP / CRM                                       12\n",
      "Game designer                                   18\n",
      "HR                                             247\n",
      "HTML coder                                     156\n",
      "Junior QA engineer                             404\n",
      "Junior Software Engineer                      1280\n",
      "Marketing                                      138\n",
      "Product Manager                                 87\n",
      "Project manager                                371\n",
      "QA Tech Lead                                    79\n",
      "QA engineer                                    738\n",
      "Research Engineer                               14\n",
      "Sales manager                                   85\n",
      "Scrum Master                                    19\n",
      "Security Specialist                             12\n",
      "Senior Project Manager / Program Manager        66\n",
      "Senior QA engineer                             263\n",
      "Senior Software Engineer                      1080\n",
      "Software Engineer                             2168\n",
      "Support                                        115\n",
      "Sysadmin                                       129\n",
      "System Architect                                65\n",
      "Talent Researcher                               36\n",
      "Team lead                                      152\n",
      "Technical Lead                                 250\n",
      "Technical writer                                28\n",
      "dtype: int64\n"
     ]
    }
   ],
   "source": [
    "df_group_by_role = df.groupby(by=\"Role\")\n",
    "print(df_group_by_role.size())"
   ]
  },
  {
   "cell_type": "markdown",
   "id": "2382d573-008d-482f-89e5-1452958410fe",
   "metadata": {},
   "source": [
    "# Utwórz nowy DataFrame, w którym dla danych pogrupowanych według kolumny \"Stanowisko\" wykonaj agregację danych za pomocą metody [agg](https://pandas.pydata.org/docs/reference/api/pandas.DataFrame.agg.html) i znajdź minimalne i maksymalne wartości w kolumnie \"Wynagrodzenie.za.miesiąc\""
   ]
  },
  {
   "cell_type": "code",
   "execution_count": 12,
   "id": "0457a027-664c-45da-a014-aa721d151e7d",
   "metadata": {},
   "outputs": [
    {
     "name": "stdout",
     "output_type": "stream",
     "text": [
      "                             Role  Salary/month: min  Salary/month: max\n",
      "0                Business analyst              200.0                NaN\n",
      "1                             DBA              380.0                NaN\n",
      "2   Data Scientist / Data Analyst              150.0                NaN\n",
      "3                        Designer              100.0                NaN\n",
      "4                          DevOps              194.0                NaN\n",
      "..                            ...                ...                ...\n",
      "27               System Architect                NaN            10000.0\n",
      "28              Talent Researcher                NaN             1700.0\n",
      "29                      Team lead                NaN             7000.0\n",
      "30                 Technical Lead                NaN            18000.0\n",
      "31               Technical writer                NaN             3000.0\n",
      "\n",
      "[64 rows x 3 columns]\n"
     ]
    }
   ],
   "source": [
    "df_group_by_role = df.groupby(by=\"Role\")\n",
    "df_group_by_role_salary_min = df_group_by_role[\"Salary/month\"].agg(\"min\").reset_index().rename(columns={\"Salary/month\" : \"Salary/month: min\"})\n",
    "df_group_by_role_salary_max = df_group_by_role[\"Salary/month\"].agg(\"max\").reset_index().rename(columns={\"Salary/month\" : \"Salary/month: max\"})\n",
    "df_group_by_role_salary_min_max = pd.concat([df_group_by_role_salary_min, df_group_by_role_salary_max])\n",
    "print(df_group_by_role_salary_min_max)"
   ]
  },
  {
   "cell_type": "markdown",
   "id": "ad3289e5-405b-4d17-b3f1-533fb72d4dcc",
   "metadata": {},
   "source": [
    "# Utwórz funkcję fill_avg_salary, która zwróci średnią miesięczną pensję. Użyj jej w metodzie [apply](https://pandas.pydata.org/docs/reference/api/pandas.DataFrame.apply.html) i utwórz nową kolumnę \"avg\""
   ]
  },
  {
   "cell_type": "code",
   "execution_count": 13,
   "id": "087b2b30-2492-445b-8048-3624d6198be6",
   "metadata": {},
   "outputs": [
    {
     "name": "stdout",
     "output_type": "stream",
     "text": [
      "                             Role  Salary/month: min  Salary/month: max  \\\n",
      "0                Business analyst              200.0                NaN   \n",
      "1                             DBA              380.0                NaN   \n",
      "2   Data Scientist / Data Analyst              150.0                NaN   \n",
      "3                        Designer              100.0                NaN   \n",
      "4                          DevOps              194.0                NaN   \n",
      "..                            ...                ...                ...   \n",
      "27               System Architect                NaN                NaN   \n",
      "28              Talent Researcher                NaN                NaN   \n",
      "29                      Team lead                NaN                NaN   \n",
      "30                 Technical Lead                NaN                NaN   \n",
      "31               Technical writer                NaN                NaN   \n",
      "\n",
      "            avg  \n",
      "0           NaN  \n",
      "1           NaN  \n",
      "2           NaN  \n",
      "3           NaN  \n",
      "4           NaN  \n",
      "..          ...  \n",
      "27  4387.076923  \n",
      "28   550.555556  \n",
      "29  2836.328947  \n",
      "30  3664.272000  \n",
      "31  1127.892857  \n",
      "\n",
      "[96 rows x 4 columns]\n"
     ]
    }
   ],
   "source": [
    "df_group_by_role = df.groupby(by=\"Role\")\n",
    "df_group_by_role_salary_min = df_group_by_role[\"Salary/month\"].agg(\"min\").reset_index().rename(columns={\"Salary/month\" : \"Salary/month: min\"})\n",
    "df_group_by_role_salary_max = df_group_by_role[\"Salary/month\"].agg(\"max\").reset_index().rename(columns={\"Salary/month\" : \"Salary/month: max\"})\n",
    "df_group_by_role_salary_mean = df_group_by_role[\"Salary/month\"].apply(np.mean).reset_index().rename(columns={\"Salary/month\" : \"avg\"})\n",
    "df_group_by_role_salary = pd.concat([df_group_by_role_salary_min, df_group_by_role_salary_max, df_group_by_role_salary_mean])\n",
    "print(df_group_by_role_salary)"
   ]
  },
  {
   "cell_type": "markdown",
   "id": "b0601c8e-8c4f-428e-997f-a4fe8954ef02",
   "metadata": {},
   "source": [
    "# Utwórz statystyki opisowe za pomocą metody describe dla nowej kolumny"
   ]
  },
  {
   "cell_type": "code",
   "execution_count": 14,
   "id": "d63e2d33-b485-4512-bc88-6d2c756e88e4",
   "metadata": {},
   "outputs": [
    {
     "name": "stdout",
     "output_type": "stream",
     "text": [
      "       Salary/month: min  Salary/month: max          avg\n",
      "count          32.000000            32.0000    32.000000\n",
      "mean          250.031250          6648.4375  1800.566187\n",
      "std           258.096817          5957.2602  1170.804714\n",
      "min            75.000000          1700.0000   482.774752\n",
      "25%           100.000000          3487.5000   858.532807\n",
      "50%           172.000000          5500.0000  1528.543434\n",
      "75%           312.500000          7250.0000  2363.147188\n",
      "max          1500.000000         34000.0000  5066.363636\n"
     ]
    }
   ],
   "source": [
    "df_group_by_role = df.groupby(by=\"Role\")\n",
    "df_group_by_role_salary_min = df_group_by_role[\"Salary/month\"].agg(\"min\").reset_index().rename(columns={\"Salary/month\" : \"Salary/month: min\"})\n",
    "df_group_by_role_salary_max = df_group_by_role[\"Salary/month\"].agg(\"max\").reset_index().rename(columns={\"Salary/month\" : \"Salary/month: max\"})\n",
    "df_group_by_role_salary_mean = df_group_by_role[\"Salary/month\"].apply(np.mean).reset_index().rename(columns={\"Salary/month\" : \"avg\"})\n",
    "df_group_by_role_salary = pd.concat([df_group_by_role_salary_min, df_group_by_role_salary_max, df_group_by_role_salary_mean])\n",
    "print(df_group_by_role_salary.describe())"
   ]
  },
  {
   "cell_type": "markdown",
   "id": "7eee87d2-8bd1-421c-a5a7-5bb8499377ed",
   "metadata": {},
   "source": [
    "# Zapisz wynikową tabelę w pliku CSV"
   ]
  },
  {
   "cell_type": "code",
   "execution_count": 15,
   "id": "79864020-b3f1-43fe-9f8e-1c59be41f576",
   "metadata": {},
   "outputs": [],
   "source": [
    "df_group_by_role = df.groupby(by=\"Role\")\n",
    "df_group_by_role_salary_min = df_group_by_role[\"Salary/month\"].agg(\"min\").reset_index().rename(columns={\"Salary/month\" : \"Salary/month: min\"})\n",
    "df_group_by_role_salary_max = df_group_by_role[\"Salary/month\"].agg(\"max\").reset_index().rename(columns={\"Salary/month\" : \"Salary/month: max\"})\n",
    "df_group_by_role_salary_mean = df_group_by_role[\"Salary/month\"].apply(np.mean).reset_index().rename(columns={\"Salary/month\" : \"avg\"})\n",
    "df_group_by_role_salary = pd.concat([df_group_by_role_salary_min, df_group_by_role_salary_max, df_group_by_role_salary_mean])\n",
    "df_statistics = df_group_by_role_salary.describe()\n",
    "df_statistics.to_csv(\"df_statistics.csv\", index=False)"
   ]
  }
 ],
 "metadata": {
  "kernelspec": {
   "display_name": "Python 3 (ipykernel)",
   "language": "python",
   "name": "python3"
  },
  "language_info": {
   "codemirror_mode": {
    "name": "ipython",
    "version": 3
   },
   "file_extension": ".py",
   "mimetype": "text/x-python",
   "name": "python",
   "nbconvert_exporter": "python",
   "pygments_lexer": "ipython3",
   "version": "3.11.4"
  }
 },
 "nbformat": 4,
 "nbformat_minor": 5
}
