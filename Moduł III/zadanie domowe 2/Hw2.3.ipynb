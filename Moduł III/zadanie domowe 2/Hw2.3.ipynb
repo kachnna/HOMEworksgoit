{
 "cells": [
  {
   "cell_type": "code",
   "execution_count": 1,
   "id": "f1147231-881f-4b5a-a938-b0420cc3849f",
   "metadata": {},
   "outputs": [],
   "source": [
    "import pandas as pd\n",
    "import numpy as np\n",
    "import matplotlib.pyplot as plt\n",
    "import seaborn as sns\n",
    "\n",
    "df = pd.read_csv(\"bestsellers_with_categories.csv\")"
   ]
  },
  {
   "cell_type": "markdown",
   "id": "dddc3681-96bb-4342-9027-bf60672f6a05",
   "metadata": {},
   "source": [
    "# Wyświetl pierwsze pięć wierszy (użyj funkcji head)"
   ]
  },
  {
   "cell_type": "code",
   "execution_count": 2,
   "id": "f1497ebc-5f63-4141-b76f-7cc509e07039",
   "metadata": {},
   "outputs": [
    {
     "name": "stdout",
     "output_type": "stream",
     "text": [
      "                                                Name  \\\n",
      "0                      10-Day Green Smoothie Cleanse   \n",
      "1                                  11/22/63: A Novel   \n",
      "2            12 Rules for Life: An Antidote to Chaos   \n",
      "3                             1984 (Signet Classics)   \n",
      "4  5,000 Awesome Facts (About Everything!) (Natio...   \n",
      "\n",
      "                     Author  User Rating  Reviews  Price  Year        Genre  \n",
      "0                  JJ Smith          4.7    17350      8  2016  Non Fiction  \n",
      "1              Stephen King          4.6     2052     22  2011      Fiction  \n",
      "2        Jordan B. Peterson          4.7    18979     15  2018  Non Fiction  \n",
      "3             George Orwell          4.7    21424      6  2017      Fiction  \n",
      "4  National Geographic Kids          4.8     7665     12  2019  Non Fiction  \n"
     ]
    }
   ],
   "source": [
    "print(df.head())"
   ]
  },
  {
   "cell_type": "markdown",
   "id": "f2d945f9-dbaa-4038-81ae-9b4ed8a07490",
   "metadata": {},
   "source": [
    "# Wyświetl wymiary zbioru danych (użyj atrybutu shape)"
   ]
  },
  {
   "cell_type": "code",
   "execution_count": 3,
   "id": "d169c334-dcc1-42a7-8938-edb3c7da76a9",
   "metadata": {},
   "outputs": [
    {
     "name": "stdout",
     "output_type": "stream",
     "text": [
      "(550, 7)\n"
     ]
    }
   ],
   "source": [
    "print(df.shape)"
   ]
  },
  {
   "cell_type": "markdown",
   "id": "a0be4e4f-fb3d-4650-9cdf-0be40063f308",
   "metadata": {},
   "source": [
    "# O ilu książkach przechowywane są dane w zbiorze danych?"
   ]
  },
  {
   "cell_type": "code",
   "execution_count": 4,
   "id": "dc32496a-d7d8-46f7-9aa8-798d4bf15066",
   "metadata": {},
   "outputs": [
    {
     "name": "stdout",
     "output_type": "stream",
     "text": [
      "Zbiór danych przechowuje informacje o 550 ksiazkach.\n"
     ]
    }
   ],
   "source": [
    "print(f\"Zbiór danych przechowuje informacje o {df.shape[0]} ksiazkach.\")"
   ]
  },
  {
   "cell_type": "markdown",
   "id": "68fb14b9-f2b0-4ed9-892c-e120973ba6a0",
   "metadata": {},
   "source": [
    "# Dla każdej z książek dostępnych jest 7 zmiennych (kolumn)."
   ]
  },
  {
   "cell_type": "code",
   "execution_count": 5,
   "id": "f17b8d20-794d-49f2-85e8-05dba8029ba3",
   "metadata": {},
   "outputs": [
    {
     "name": "stdout",
     "output_type": "stream",
     "text": [
      "                                                  name  \\\n",
      "0                        10-Day Green Smoothie Cleanse   \n",
      "1                                    11/22/63: A Novel   \n",
      "2              12 Rules for Life: An Antidote to Chaos   \n",
      "3                               1984 (Signet Classics)   \n",
      "4    5,000 Awesome Facts (About Everything!) (Natio...   \n",
      "..                                                 ...   \n",
      "545       Wrecking Ball (Diary of a Wimpy Kid Book 14)   \n",
      "546  You Are a Badass: How to Stop Doubting Your Gr...   \n",
      "547  You Are a Badass: How to Stop Doubting Your Gr...   \n",
      "548  You Are a Badass: How to Stop Doubting Your Gr...   \n",
      "549  You Are a Badass: How to Stop Doubting Your Gr...   \n",
      "\n",
      "                       author  user_rating  reviews  price  year        genre  \n",
      "0                    JJ Smith          4.7    17350      8  2016  Non Fiction  \n",
      "1                Stephen King          4.6     2052     22  2011      Fiction  \n",
      "2          Jordan B. Peterson          4.7    18979     15  2018  Non Fiction  \n",
      "3               George Orwell          4.7    21424      6  2017      Fiction  \n",
      "4    National Geographic Kids          4.8     7665     12  2019  Non Fiction  \n",
      "..                        ...          ...      ...    ...   ...          ...  \n",
      "545               Jeff Kinney          4.9     9413      8  2019      Fiction  \n",
      "546               Jen Sincero          4.7    14331      8  2016  Non Fiction  \n",
      "547               Jen Sincero          4.7    14331      8  2017  Non Fiction  \n",
      "548               Jen Sincero          4.7    14331      8  2018  Non Fiction  \n",
      "549               Jen Sincero          4.7    14331      8  2019  Non Fiction  \n",
      "\n",
      "[550 rows x 7 columns]\n"
     ]
    }
   ],
   "source": [
    "df.columns = ['name', 'author', 'user_rating', 'reviews', 'price', 'year', 'genre']\n",
    "print(df)"
   ]
  },
  {
   "cell_type": "markdown",
   "id": "df30a0c1-5e1f-45b6-84e0-b1dea9588cbe",
   "metadata": {},
   "source": [
    "# Pierwotne badanie danych"
   ]
  },
  {
   "cell_type": "markdown",
   "id": "cd20fdd2-c5ce-4ca2-a147-fc86fb2bf4fa",
   "metadata": {},
   "source": [
    "* Sprawdź, czy wszystkie wiersze zawierają wystarczającą ilość danych: wypisz liczbę pustych miejsc (na) w każdej kolumnie (użyj funkcji isna i sum)."
   ]
  },
  {
   "cell_type": "code",
   "execution_count": 6,
   "id": "1c144e5b-0a3b-4e4b-bbe3-16c3deef4dc4",
   "metadata": {},
   "outputs": [
    {
     "name": "stdout",
     "output_type": "stream",
     "text": [
      "name           0\n",
      "author         0\n",
      "user_rating    0\n",
      "reviews        0\n",
      "price          0\n",
      "year           0\n",
      "genre          0\n",
      "dtype: int64\n"
     ]
    }
   ],
   "source": [
    "df_count_na = df.isna().sum()\n",
    "print(df_count_na)"
   ]
  },
  {
   "cell_type": "markdown",
   "id": "3b531c0a-6866-4d58-ac0b-9e816cdc6711",
   "metadata": {},
   "source": [
    " Czy są jakieś zmienne z brakującymi wartościami? (Nie)"
   ]
  },
  {
   "cell_type": "markdown",
   "id": "9030dcc8-8d38-4371-919b-d5f7aa1395a5",
   "metadata": {},
   "source": [
    "* Sprawdź unikalne wartości w kolumnie genre (użyj funkcji unique)."
   ]
  },
  {
   "cell_type": "code",
   "execution_count": 7,
   "id": "00be583e-64c8-4533-9538-d5e6d74419ea",
   "metadata": {},
   "outputs": [
    {
     "name": "stdout",
     "output_type": "stream",
     "text": [
      "['Non Fiction' 'Fiction']\n"
     ]
    }
   ],
   "source": [
    "df_genre_unique = df[\"genre\"].unique()\n",
    "print(df_genre_unique)"
   ]
  },
  {
   "cell_type": "markdown",
   "id": "a1992f5c-1d6b-416a-878b-70a14659f5ab",
   "metadata": {},
   "source": [
    " Jakie są unikalne gatunki?\n",
    " 'Non Fiction' i 'Fiction'"
   ]
  },
  {
   "cell_type": "markdown",
   "id": "f1cfc1f1-4d2a-4eca-8a3b-f3b618d754a4",
   "metadata": {},
   "source": [
    "* Teraz spójrz na rozkład cen: zbuduj wykres (użyj kind='hist')"
   ]
  },
  {
   "cell_type": "code",
   "execution_count": 8,
   "id": "1caee0e9-1f0c-4384-970a-f776379a6a5a",
   "metadata": {},
   "outputs": [
    {
     "data": {
      "image/png": "[encoded data removed]",
      "text/plain": [
       "<Figure size 640x480 with 1 Axes>"
      ]
     },
     "metadata": {},
     "output_type": "display_data"
    }
   ],
   "source": [
    "plt.hist(df[\"price\"], bins=20)\n",
    "plt.title(\"Histogram - rozkład cen książek\")\n",
    "plt.show()"
   ]
  },
  {
   "cell_type": "markdown",
   "id": "50931763-00f5-482f-889b-06bc81ba4569",
   "metadata": {},
   "source": [
    "* Określ maksymalną, minimalną, średnią i medianową cenę (użyj funkcji max, min, mean, median)."
   ]
  },
  {
   "cell_type": "code",
   "execution_count": 10,
   "id": "d0859b4b-d0ce-4148-8f41-2c7c1b528988",
   "metadata": {},
   "outputs": [
    {
     "name": "stdout",
     "output_type": "stream",
     "text": [
      "Cena maksymalna to:  105\n",
      "Cena minimalna to:  0\n",
      "Średnia to:  13.1\n",
      "Mediana to:  11.0\n"
     ]
    }
   ],
   "source": [
    "print(\"Cena maksymalna to: \", df[\"price\"].max())\n",
    "print(\"Cena minimalna to: \", df[\"price\"].min())\n",
    "print(\"Średnia to: \", df[\"price\"].mean())\n",
    "print(\"Mediana to: \", df[\"price\"].median())"
   ]
  },
  {
   "cell_type": "markdown",
   "id": "f86859d5-06d0-4cfa-a4ef-40c7ec5cbd2a",
   "metadata": {},
   "source": [
    "# Wyszukiwanie i sortowanie danych"
   ]
  },
  {
   "cell_type": "markdown",
   "id": "b3459e76-9bde-4189-bbd8-022a8fc80e46",
   "metadata": {},
   "source": [
    "# Agregacja danych i łączenie tabel"
   ]
  }
 ],
 "metadata": {
  "kernelspec": {
   "display_name": "Python 3 (ipykernel)",
   "language": "python",
   "name": "python3"
  },
  "language_info": {
   "codemirror_mode": {
    "name": "ipython",
    "version": 3
   },
   "file_extension": ".py",
   "mimetype": "text/x-python",
   "name": "python",
   "nbconvert_exporter": "python",
   "pygments_lexer": "ipython3",
   "version": "3.11.4"
  }
 },
 "nbformat": 4,
 "nbformat_minor": 5
}
