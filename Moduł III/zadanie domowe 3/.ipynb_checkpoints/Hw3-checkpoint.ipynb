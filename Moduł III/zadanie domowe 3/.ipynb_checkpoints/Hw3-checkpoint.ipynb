{
 "cells": [
  {
   "cell_type": "code",
   "execution_count": 1,
   "id": "8f22f01e-a265-48f6-8081-9291896e5992",
   "metadata": {},
   "outputs": [],
   "source": [
    "import pandas as pd\n",
    "import numpy as np\n",
    "from sklearn.linear_model import LinearRegression\n",
    "\n",
    "housing = pd.read_csv(\"Housing.csv\")\n",
    "housing.columns = [\"price\", \"area\", \"bedrooms\", \"bathrooms\", \"stories\", \"mainroad\", \"guestroom\", \"basement\", \"hotwaterheating\", \"airconditioning\", \"parking\", \"prefarea\", \"furnishingstatus\"]"
   ]
  },
  {
   "cell_type": "markdown",
   "id": "a7e78577-b886-4473-92bc-dcb5e960c69d",
   "metadata": {},
   "source": [
    "Przygotowanie danych"
   ]
  },
  {
   "cell_type": "code",
   "execution_count": 2,
   "id": "4a35b9f7-31b8-4a62-a391-cbaf1300fd63",
   "metadata": {},
   "outputs": [],
   "source": [
    "X_df = pd.DataFrame(np.ones(len(housing.index)), columns=[\"ones\"])\n",
    "X_df[\"area\"] = housing[\"area\"]\n",
    "X_df[\"bedrooms\"] = housing[\"bedrooms\"]\n",
    "X_df[\"bathrooms\"] = housing[\"bathrooms\"]\n",
    "X = X_df.values\n",
    "y = housing[\"price\"].values\n",
    "W = np.array([-173171.6080000028, 3.78762754e+02, 4.06820034e+05, 1.38604950e+06])\n",
    "alfa = 0.000000001"
   ]
  },
  {
   "cell_type": "markdown",
   "id": "89c1c8d0-d5fe-40a9-bcc3-aec3d4540d29",
   "metadata": {},
   "source": [
    "* Napisz funkcję hipotezy regresji liniowej w postaci wektorowej."
   ]
  },
  {
   "cell_type": "code",
   "execution_count": 3,
   "id": "688c9528-6516-4b30-bd4a-2ce17a15acb9",
   "metadata": {},
   "outputs": [],
   "source": [
    "def regression_hypothesis(X, W):\n",
    "    h_x = np.dot(X, W)\n",
    "    return h_x"
   ]
  },
  {
   "cell_type": "markdown",
   "id": "ee96909e-0b06-4ff4-ab7e-d4d5df26ed7c",
   "metadata": {},
   "source": [
    "* Utwórz funkcję obliczającą funkcję straty w postaci wektorowej."
   ]
  },
  {
   "cell_type": "code",
   "execution_count": 4,
   "id": "6a30c219-9b61-4521-b01c-e753cd86d805",
   "metadata": {},
   "outputs": [],
   "source": [
    "def loss_function(y_pred, y):\n",
    "    m = len(y)\n",
    "    loss = (1/(2*m)) * np.sum((y_pred - y)**2)\n",
    "    return loss"
   ]
  },
  {
   "cell_type": "markdown",
   "id": "d7a342df-04e3-4a68-9d94-90ceec95f4d9",
   "metadata": {},
   "source": [
    "* Zaimplementuj jeden krok zejścia gradientowego."
   ]
  },
  {
   "cell_type": "code",
   "execution_count": 5,
   "id": "2b3767a7-6925-4dfe-89bb-64b2e3abce29",
   "metadata": {},
   "outputs": [],
   "source": [
    "def gradient_descent(X, W, y, alfa):\n",
    "    m = len(y)\n",
    "    y_pred = regression_hypothesis(X, W)\n",
    "    errors = y_pred - y\n",
    "    gradient = (1/m) * np.dot(X.T, errors)\n",
    "    W = W - alfa * gradient\n",
    "    return W"
   ]
  },
  {
   "cell_type": "markdown",
   "id": "39b861c0-7978-439e-a269-082371834bde",
   "metadata": {},
   "source": [
    "* Implementacja jednego kroku iteracji zejścia gradientowego"
   ]
  },
  {
   "cell_type": "code",
   "execution_count": 6,
   "id": "39405de8-322c-4359-85bd-578cc77d384b",
   "metadata": {},
   "outputs": [
    {
     "name": "stdout",
     "output_type": "stream",
     "text": [
      "[-1.73171608e+05  3.78762754e+02  4.06820034e+05  1.38604950e+06]\n",
      "895585024988.6595\n",
      "Funkcja straty pozostaje bez zmian dla alfa = 1e-09.\n"
     ]
    }
   ],
   "source": [
    "loss_0 = loss_function(regression_hypothesis(X, W), y)\n",
    "W = gradient_descent(X, W, y, alfa)\n",
    "loss_1 = loss_function(regression_hypothesis(X, W), y)\n",
    "print(W)\n",
    "print(loss_1)\n",
    "\n",
    "if loss_1 < loss_0:\n",
    "    print(f\"Funkcja straty maleje dla alfa = {alfa}.\")\n",
    "elif loss_1 > loss_0:\n",
    "    print(f\"Funkcja straty wzrasta dla alfa = {alfa}.\")\n",
    "else:\n",
    "    print(f\"Funkcja straty pozostaje bez zmian dla alfa = {alfa}.\")\n"
   ]
  },
  {
   "cell_type": "markdown",
   "id": "15efd0e4-9ebd-4dba-ad9e-168b5f8f3683",
   "metadata": {},
   "source": [
    "* Ile potrzeba iteracji, aby osiągnąć minimum?"
   ]
  },
  {
   "cell_type": "code",
   "execution_count": 7,
   "id": "dc1632f5-b768-46f9-977f-122977d9a3cc",
   "metadata": {},
   "outputs": [
    {
     "name": "stdout",
     "output_type": "stream",
     "text": [
      "Potrzebne jest wykonanie 3 iteracji.\n"
     ]
    }
   ],
   "source": [
    "iteration = 0\n",
    "while True:\n",
    "    loss_0 = loss_function(regression_hypothesis(X, W), y)\n",
    "    W = gradient_descent(X, W, y, alfa)\n",
    "    loss_1 = loss_function(regression_hypothesis(X, W), y)\n",
    "    iteration += 1\n",
    "    if loss_1 == loss_0:\n",
    "        print(f\"Potrzebne jest wykonanie {iteration} iteracji.\")\n",
    "        break\n",
    "    if iteration > 1000000:\n",
    "        print(f\"Potrzebne jest wykonanie ponad 1000000 iteracji.\")\n",
    "        break"
   ]
  },
  {
   "cell_type": "markdown",
   "id": "785dc61b-b69d-4af9-bfc4-2fdf1c9b3f7a",
   "metadata": {},
   "source": [
    "* Rozwiązanie analityczne"
   ]
  },
  {
   "cell_type": "code",
   "execution_count": 8,
   "id": "42e4611a-dff1-4289-a98c-57dd2999a8cf",
   "metadata": {},
   "outputs": [
    {
     "name": "stdout",
     "output_type": "stream",
     "text": [
      "[6660108.14814856]\n",
      "Współczynnik nachylenia: [0.00000000e+00 3.78762754e+02 4.06820034e+05 1.38604950e+06]\n",
      "Wyraz wolny: -173171.6080000028\n"
     ]
    }
   ],
   "source": [
    "y = np.dot(X, W)\n",
    "regressor = LinearRegression().fit(X, y)\n",
    "print(regressor.predict(np.array([[1, 7500, 3, 2]])))\n",
    "print(\"Współczynnik nachylenia:\", regressor.coef_)\n",
    "print(\"Wyraz wolny:\", regressor.intercept_)"
   ]
  }
 ],
 "metadata": {
  "kernelspec": {
   "display_name": "Python 3 (ipykernel)",
   "language": "python",
   "name": "python3"
  },
  "language_info": {
   "codemirror_mode": {
    "name": "ipython",
    "version": 3
   },
   "file_extension": ".py",
   "mimetype": "text/x-python",
   "name": "python",
   "nbconvert_exporter": "python",
   "pygments_lexer": "ipython3",
   "version": "3.11.4"
  }
 },
 "nbformat": 4,
 "nbformat_minor": 5
}
