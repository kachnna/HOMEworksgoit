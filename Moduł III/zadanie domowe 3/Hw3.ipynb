{
 "cells": [
  {
   "cell_type": "markdown",
   "id": "89c1c8d0-d5fe-40a9-bcc3-aec3d4540d29",
   "metadata": {},
   "source": [
    "* Napisz funkcję hipotezy regresji liniowej w postaci wektorowej."
   ]
  },
  {
   "cell_type": "markdown",
   "id": "ee96909e-0b06-4ff4-ab7e-d4d5df26ed7c",
   "metadata": {},
   "source": [
    "* Utwórz funkcję obliczającą funkcję straty w postaci wektorowej."
   ]
  },
  {
   "cell_type": "markdown",
   "id": "d7a342df-04e3-4a68-9d94-90ceec95f4d9",
   "metadata": {},
   "source": [
    "* Zaimplementuj jeden krok zejścia gradientowego."
   ]
  },
  {
   "cell_type": "markdown",
   "id": "39b861c0-7978-439e-a269-082371834bde",
   "metadata": {},
   "source": [
    "* Znajdź najlepsze parametry w dla zbioru danych, pozwalające przewidzieć cenę domu w zależności od powierzchni, liczby łazienek i liczby sypialni."
   ]
  },
  {
   "cell_type": "markdown",
   "id": "785dc61b-b69d-4af9-bfc4-2fdf1c9b3f7a",
   "metadata": {},
   "source": [
    "* Znajdź te same parametry za pomocą rozwiązania analitycznego."
   ]
  },
  {
   "cell_type": "markdown",
   "id": "3f3b5090-1fad-428a-b893-da6a6de22f35",
   "metadata": {},
   "source": [
    "* Porównaj wyniki."
   ]
  },
  {
   "cell_type": "code",
   "execution_count": null,
   "id": "bedcc127-faf1-4336-a023-76250368289a",
   "metadata": {},
   "outputs": [],
   "source": []
  }
 ],
 "metadata": {
  "kernelspec": {
   "display_name": "Python 3 (ipykernel)",
   "language": "python",
   "name": "python3"
  },
  "language_info": {
   "codemirror_mode": {
    "name": "ipython",
    "version": 3
   },
   "file_extension": ".py",
   "mimetype": "text/x-python",
   "name": "python",
   "nbconvert_exporter": "python",
   "pygments_lexer": "ipython3",
   "version": "3.11.4"
  }
 },
 "nbformat": 4,
 "nbformat_minor": 5
}
