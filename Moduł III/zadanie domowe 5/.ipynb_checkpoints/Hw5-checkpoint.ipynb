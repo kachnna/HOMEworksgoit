{
 "cells": [
  {
   "cell_type": "code",
   "execution_count": 1,
   "id": "64a5f48a-8e08-4128-a1e1-804d6f5a74ed",
   "metadata": {},
   "outputs": [],
   "source": [
    "import pandas as pd\n",
    "import numpy as np\n",
    "from sklearn.model_selection import train_test_split\n",
    "from pathlib import Path\n",
    "from sklearn.svm import SVC\n",
    "from sklearn.metrics import classification_report, accuracy_score\n",
    "from sklearn.ensemble import RandomForestClassifier\n",
    "from scipy.stats import kurtosis, skew\n",
    "import os"
   ]
  },
  {
   "cell_type": "markdown",
   "id": "3d5fc8fa-a395-4edd-9412-55566f034b63",
   "metadata": {},
   "source": [
    "# Klasyfikacja danych przy użyciu algorytmów SVM"
   ]
  },
  {
   "cell_type": "markdown",
   "id": "e571a5c7-684b-479f-87ca-7c7c0861916c",
   "metadata": {},
   "source": [
    "1. Pobieranie danych"
   ]
  },
  {
   "cell_type": "markdown",
   "id": "c156cf18-70b4-4b1c-be24-2e5a2363a5ee",
   "metadata": {},
   "source": [
    "Funkcja do ładowania danych z folderów"
   ]
  },
  {
   "cell_type": "code",
   "execution_count": 2,
   "id": "feb65ae4-a6bc-45f9-a4ac-72227ac16f9b",
   "metadata": {},
   "outputs": [],
   "source": [
    "def load_data(folder_path, label):\n",
    "    data = []\n",
    "    for file_path in Path(folder_path).iterdir():\n",
    "        if file_path.suffix == \".csv\":\n",
    "            df = pd.read_csv(file_path)\n",
    "            features = df.values.flatten()\n",
    "            data.append(np.append(features, label))\n",
    "    return np.array(data)"
   ]
  },
  {
   "cell_type": "code",
   "execution_count": 3,
   "id": "78e51152-9516-42f6-aec3-25c493bcb107",
   "metadata": {},
   "outputs": [
    {
     "name": "stdout",
     "output_type": "stream",
     "text": [
      "data/idle - Data available\n",
      "data/running - Data available\n",
      "data/stairs - Data available\n",
      "data/walking - Data available\n"
     ]
    }
   ],
   "source": [
    "folders = {\n",
    "    0: \"data/idle\",\n",
    "    1: \"data/running\",\n",
    "    2: \"data/stairs\",\n",
    "    3: \"data/walking\",\n",
    "}\n",
    "if not os.path.exists(\"data\"):\n",
    "    print(\"No data folder available. Check your data folders and CSV files.\")\n",
    "else:\n",
    "    data = []\n",
    "    for label, path in folders.items():\n",
    "        folder_data = load_data(path, label)\n",
    "        if folder_data.size > 0:\n",
    "            data.append(folder_data)\n",
    "            print(f\"{path} - Data available\")\n",
    "        else:\n",
    "            print(f\"{path} - No data available. Check your data folders and CSV files\")\n",
    "\n",
    "    data = np.vstack(data)"
   ]
  },
  {
   "cell_type": "markdown",
   "id": "c6746966-3449-4590-aa3b-e81e8cd64608",
   "metadata": {},
   "source": [
    "2. Przygotowanie danych i ich podział na treningowy i testowy"
   ]
  },
  {
   "cell_type": "code",
   "execution_count": 4,
   "id": "c0a5690c-c549-4153-a396-9cb43834a748",
   "metadata": {},
   "outputs": [
    {
     "name": "stdout",
     "output_type": "stream",
     "text": [
      "X_train shape: (5169, 90)\n",
      "X_test shape: (1293, 90)\n",
      "y_train shape: (5169,)\n",
      "y_test shape: (1293,)\n"
     ]
    }
   ],
   "source": [
    "X = data[:, :-1]\n",
    "y = data[:, -1]\n",
    "\n",
    "X_train, X_test, y_train, y_test = train_test_split(X, y, test_size=0.2, random_state=92)\n",
    "if data.size > 0:\n",
    "    print(\"X_train shape:\", X_train.shape)\n",
    "    print(\"X_test shape:\", X_test.shape)\n",
    "    print(\"y_train shape:\", y_train.shape)\n",
    "    print(\"y_test shape:\", y_test.shape)"
   ]
  },
  {
   "cell_type": "markdown",
   "id": "8a08aaf6-6d1e-4b76-b669-1549d5d5bb22",
   "metadata": {},
   "source": [
    "3. Modele i ich ewluacja"
   ]
  },
  {
   "cell_type": "markdown",
   "id": "48efa7c7-8db6-48b9-a6ea-af824c8055c4",
   "metadata": {},
   "source": [
    "SVM Model"
   ]
  },
  {
   "cell_type": "code",
   "execution_count": 5,
   "id": "2680a713-507e-4cfc-8366-fdb0f874f500",
   "metadata": {},
   "outputs": [
    {
     "name": "stdout",
     "output_type": "stream",
     "text": [
      "SVM Classifier Report:\n",
      "              precision    recall  f1-score   support\n",
      "\n",
      "         0.0       1.00      1.00      1.00       185\n",
      "         1.0       1.00      1.00      1.00       678\n",
      "         2.0       0.86      0.53      0.65        34\n",
      "         3.0       0.96      0.99      0.98       396\n",
      "\n",
      "    accuracy                           0.99      1293\n",
      "   macro avg       0.95      0.88      0.91      1293\n",
      "weighted avg       0.98      0.99      0.98      1293\n",
      "\n",
      "SVM Accuracy: 0.9853054911059551\n"
     ]
    }
   ],
   "source": [
    "svm_model = SVC()\n",
    "svm_model.fit(X_train, y_train)\n",
    "y_pred_svm = svm_model.predict(X_test)\n",
    "print(\"SVM Classifier Report:\")\n",
    "print(classification_report(y_test, y_pred_svm))\n",
    "print(\"SVM Accuracy:\", accuracy_score(y_test, y_pred_svm))"
   ]
  },
  {
   "cell_type": "markdown",
   "id": "a3490288-bf2b-43ff-a74c-8183e9d5f197",
   "metadata": {},
   "source": [
    "Random Forest Model"
   ]
  },
  {
   "cell_type": "code",
   "execution_count": 6,
   "id": "91b86645-a62e-4775-95f3-4b76371db45f",
   "metadata": {},
   "outputs": [
    {
     "name": "stdout",
     "output_type": "stream",
     "text": [
      "Random Forest Classifier Report:\n",
      "              precision    recall  f1-score   support\n",
      "\n",
      "         0.0       1.00      1.00      1.00       185\n",
      "         1.0       1.00      1.00      1.00       678\n",
      "         2.0       0.00      0.00      0.00        34\n",
      "         3.0       0.92      1.00      0.96       396\n",
      "\n",
      "    accuracy                           0.97      1293\n",
      "   macro avg       0.73      0.75      0.74      1293\n",
      "weighted avg       0.95      0.97      0.96      1293\n",
      "\n",
      "Random Forest Accuracy: 0.9737045630317092\n"
     ]
    },
    {
     "name": "stderr",
     "output_type": "stream",
     "text": [
      "c:\\Users\\ASUS\\OneDrive\\Pulpit\\Projekt\\HOMEworksgoit\\Moduł III\\zadanie domowe 5\\.venv\\Lib\\site-packages\\sklearn\\metrics\\_classification.py:1517: UndefinedMetricWarning: Precision is ill-defined and being set to 0.0 in labels with no predicted samples. Use `zero_division` parameter to control this behavior.\n",
      "  _warn_prf(average, modifier, f\"{metric.capitalize()} is\", len(result))\n",
      "c:\\Users\\ASUS\\OneDrive\\Pulpit\\Projekt\\HOMEworksgoit\\Moduł III\\zadanie domowe 5\\.venv\\Lib\\site-packages\\sklearn\\metrics\\_classification.py:1517: UndefinedMetricWarning: Precision is ill-defined and being set to 0.0 in labels with no predicted samples. Use `zero_division` parameter to control this behavior.\n",
      "  _warn_prf(average, modifier, f\"{metric.capitalize()} is\", len(result))\n",
      "c:\\Users\\ASUS\\OneDrive\\Pulpit\\Projekt\\HOMEworksgoit\\Moduł III\\zadanie domowe 5\\.venv\\Lib\\site-packages\\sklearn\\metrics\\_classification.py:1517: UndefinedMetricWarning: Precision is ill-defined and being set to 0.0 in labels with no predicted samples. Use `zero_division` parameter to control this behavior.\n",
      "  _warn_prf(average, modifier, f\"{metric.capitalize()} is\", len(result))\n"
     ]
    }
   ],
   "source": [
    "rf_model = RandomForestClassifier(n_estimators=100)\n",
    "rf_model.fit(X_train, y_train)\n",
    "y_pred_rf = rf_model.predict(X_test)\n",
    "print(\"Random Forest Classifier Report:\")\n",
    "print(classification_report(y_test, y_pred_rf))\n",
    "print(\"Random Forest Accuracy:\", accuracy_score(y_test, y_pred_rf))"
   ]
  },
  {
   "cell_type": "markdown",
   "id": "d992e5df-3e8a-4fb9-a8f3-f0bbc2096662",
   "metadata": {},
   "source": [
    "# __Time domain features__"
   ]
  },
  {
   "cell_type": "markdown",
   "id": "528c71f4-1162-45fe-b74c-95aecdabbaa6",
   "metadata": {},
   "source": [
    "We extract 17 time domain features from each window for each axis x, y and z. Guided by a previous work, the individual features for each axis involves statistical attributes such as __mean, variance, standard deviation and envelope metrics, i.e. median, range maximum and minimum value, root main square metric__. Furthermore, we usesignal magnitude area, indexes of minimum and maximum value, power, energy, entropy, __skewness, kurtosis__, interquartile range, and mean absolute deviation of signal. To see the cross-relational effects of different motion axes, we also use cross correlation of binary combinations of x, y, and z."
   ]
  },
  {
   "cell_type": "markdown",
   "id": "c392bf21-aad4-40d7-9c1f-f493b5392d9e",
   "metadata": {},
   "source": [
    "1. Pobieranie danych"
   ]
  },
  {
   "cell_type": "markdown",
   "id": "2f0db05f-97e2-4b28-8fcc-2cdc0977c4d9",
   "metadata": {},
   "source": [
    "Funkcja do obliczania cech domeny czasowej"
   ]
  },
  {
   "cell_type": "code",
   "execution_count": 7,
   "id": "fc7cb504-77ff-42bd-8350-74164986edea",
   "metadata": {},
   "outputs": [],
   "source": [
    "def extract_features(file_path):\n",
    "    df = pd.read_csv(file_path)\n",
    "    features = []\n",
    "    for axis in [\"accelerometer_X\", \"accelerometer_Y\", \"accelerometer_Z\"]:\n",
    "        data = df[axis]\n",
    "        features.extend([\n",
    "            data.mean(),\n",
    "            data.median(),\n",
    "            data.std(),\n",
    "            data.var(),\n",
    "            kurtosis(data),\n",
    "            skew(data),\n",
    "            data.min(),\n",
    "            data.max(),\n",
    "            np.sqrt(np.mean(data**2)),\n",
    "            np.sum(data**2)\n",
    "        ])\n",
    "    return np.array(features)"
   ]
  },
  {
   "cell_type": "markdown",
   "id": "6156e08e-52d1-4636-9d81-f55941d184e6",
   "metadata": {},
   "source": [
    "Funkcja do ładowania danych z folderów"
   ]
  },
  {
   "cell_type": "code",
   "execution_count": 8,
   "id": "2803f993-2ce2-4990-97a0-0240a87ad1e7",
   "metadata": {},
   "outputs": [],
   "source": [
    "def load_data(folder_path, label):\n",
    "    data = []\n",
    "    for file_path in Path(folder_path).iterdir():\n",
    "        if file_path.name.endswith(\".csv\"):\n",
    "            features = extract_features(file_path)\n",
    "            data.append(np.append(features, label))\n",
    "    return np.array(data)"
   ]
  },
  {
   "cell_type": "code",
   "execution_count": 9,
   "id": "b30b84bd-2f79-4597-8f0b-acd3c204186f",
   "metadata": {},
   "outputs": [
    {
     "name": "stdout",
     "output_type": "stream",
     "text": [
      "data/idle - Data available\n",
      "data/running - Data available\n",
      "data/stairs - Data available\n",
      "data/walking - Data available\n"
     ]
    }
   ],
   "source": [
    "folders = {\n",
    "    0: \"data/idle\",\n",
    "    1: \"data/running\",\n",
    "    2: \"data/stairs\",\n",
    "    3: \"data/walking\",\n",
    "}\n",
    "if not os.path.exists(\"data\"):\n",
    "    print(\"No data folder available. Check your data folders and CSV files.\")\n",
    "else:\n",
    "    data = []\n",
    "    for label, path in folders.items():\n",
    "        folder_data = load_data(path, label)\n",
    "        if folder_data.size > 0:\n",
    "            data.append(folder_data)\n",
    "            print(f\"{path} - Data available\")\n",
    "        else:\n",
    "            print(f\"{path} - No data available. Check your data folders and CSV files\")\n",
    "\n",
    "    data = np.vstack(data)"
   ]
  },
  {
   "cell_type": "markdown",
   "id": "a689c885-4051-4586-970e-1b14602bcf9c",
   "metadata": {},
   "source": [
    "2. Przygotowanie danych i ich podział na treningowy i testowy"
   ]
  },
  {
   "cell_type": "code",
   "execution_count": 10,
   "id": "ae7d4515-e739-4dd5-8e06-ce8fb2c2a5d5",
   "metadata": {},
   "outputs": [
    {
     "name": "stdout",
     "output_type": "stream",
     "text": [
      "X_train shape: (5169, 30)\n",
      "X_test shape: (1293, 30)\n",
      "y_train shape: (5169,)\n",
      "y_test shape: (1293,)\n"
     ]
    }
   ],
   "source": [
    "X = data[:, :-1]\n",
    "y = data[:, -1]\n",
    "\n",
    "X_train, X_test, y_train, y_test = train_test_split(X, y, test_size=0.2, random_state=92)\n",
    "if data.size > 0:\n",
    "    print(\"X_train shape:\", X_train.shape)\n",
    "    print(\"X_test shape:\", X_test.shape)\n",
    "    print(\"y_train shape:\", y_train.shape)\n",
    "    print(\"y_test shape:\", y_test.shape)"
   ]
  },
  {
   "cell_type": "markdown",
   "id": "15790041-d686-49a6-9a30-9c0b00bc968b",
   "metadata": {},
   "source": [
    "3. Modele i ich ewluacja"
   ]
  },
  {
   "cell_type": "markdown",
   "id": "bd71ced1-b42e-4415-97cb-6d65226d3127",
   "metadata": {},
   "source": [
    "SVM Model"
   ]
  },
  {
   "cell_type": "code",
   "execution_count": 11,
   "id": "da26678c-f224-4dca-b2c8-54d19b816880",
   "metadata": {},
   "outputs": [
    {
     "name": "stdout",
     "output_type": "stream",
     "text": [
      "SVM Classifier Report:\n",
      "              precision    recall  f1-score   support\n",
      "\n",
      "         0.0       1.00      1.00      1.00       185\n",
      "         1.0       0.99      0.97      0.98       678\n",
      "         2.0       0.00      0.00      0.00        34\n",
      "         3.0       0.88      0.98      0.93       396\n",
      "\n",
      "    accuracy                           0.95      1293\n",
      "   macro avg       0.72      0.74      0.73      1293\n",
      "weighted avg       0.93      0.95      0.94      1293\n",
      "\n",
      "SVM Accuracy: 0.9528228924980665\n"
     ]
    },
    {
     "name": "stderr",
     "output_type": "stream",
     "text": [
      "c:\\Users\\ASUS\\OneDrive\\Pulpit\\Projekt\\HOMEworksgoit\\Moduł III\\zadanie domowe 5\\.venv\\Lib\\site-packages\\sklearn\\metrics\\_classification.py:1517: UndefinedMetricWarning: Precision is ill-defined and being set to 0.0 in labels with no predicted samples. Use `zero_division` parameter to control this behavior.\n",
      "  _warn_prf(average, modifier, f\"{metric.capitalize()} is\", len(result))\n",
      "c:\\Users\\ASUS\\OneDrive\\Pulpit\\Projekt\\HOMEworksgoit\\Moduł III\\zadanie domowe 5\\.venv\\Lib\\site-packages\\sklearn\\metrics\\_classification.py:1517: UndefinedMetricWarning: Precision is ill-defined and being set to 0.0 in labels with no predicted samples. Use `zero_division` parameter to control this behavior.\n",
      "  _warn_prf(average, modifier, f\"{metric.capitalize()} is\", len(result))\n",
      "c:\\Users\\ASUS\\OneDrive\\Pulpit\\Projekt\\HOMEworksgoit\\Moduł III\\zadanie domowe 5\\.venv\\Lib\\site-packages\\sklearn\\metrics\\_classification.py:1517: UndefinedMetricWarning: Precision is ill-defined and being set to 0.0 in labels with no predicted samples. Use `zero_division` parameter to control this behavior.\n",
      "  _warn_prf(average, modifier, f\"{metric.capitalize()} is\", len(result))\n"
     ]
    }
   ],
   "source": [
    "svm_model = SVC()\n",
    "svm_model.fit(X_train, y_train)\n",
    "y_pred_svm = svm_model.predict(X_test)\n",
    "print(\"SVM Classifier Report:\")\n",
    "print(classification_report(y_test, y_pred_svm))\n",
    "print(\"SVM Accuracy:\", accuracy_score(y_test, y_pred_svm))"
   ]
  },
  {
   "cell_type": "markdown",
   "id": "5311322e-cc6c-47cb-b530-f254a3d57595",
   "metadata": {},
   "source": [
    "Random Forest Model"
   ]
  },
  {
   "cell_type": "code",
   "execution_count": 12,
   "id": "21225fcc-2eeb-45d0-9166-e07b5ce36b29",
   "metadata": {},
   "outputs": [
    {
     "name": "stdout",
     "output_type": "stream",
     "text": [
      "Random Forest Classifier Report:\n",
      "              precision    recall  f1-score   support\n",
      "\n",
      "         0.0       1.00      1.00      1.00       185\n",
      "         1.0       1.00      1.00      1.00       678\n",
      "         2.0       1.00      0.94      0.97        34\n",
      "         3.0       0.99      1.00      1.00       396\n",
      "\n",
      "    accuracy                           1.00      1293\n",
      "   macro avg       1.00      0.99      0.99      1293\n",
      "weighted avg       1.00      1.00      1.00      1293\n",
      "\n",
      "Random Forest Accuracy: 0.9984532095901005\n"
     ]
    }
   ],
   "source": [
    "rf_model = RandomForestClassifier(n_estimators=100)\n",
    "rf_model.fit(X_train, y_train)\n",
    "y_pred_rf = rf_model.predict(X_test)\n",
    "print(\"Random Forest Classifier Report:\")\n",
    "print(classification_report(y_test, y_pred_rf))\n",
    "print(\"Random Forest Accuracy:\", accuracy_score(y_test, y_pred_rf))"
   ]
  }
 ],
 "metadata": {
  "kernelspec": {
   "display_name": "Python 3 (ipykernel)",
   "language": "python",
   "name": "python3"
  },
  "language_info": {
   "codemirror_mode": {
    "name": "ipython",
    "version": 3
   },
   "file_extension": ".py",
   "mimetype": "text/x-python",
   "name": "python",
   "nbconvert_exporter": "python",
   "pygments_lexer": "ipython3",
   "version": "3.11.4"
  }
 },
 "nbformat": 4,
 "nbformat_minor": 5
}
