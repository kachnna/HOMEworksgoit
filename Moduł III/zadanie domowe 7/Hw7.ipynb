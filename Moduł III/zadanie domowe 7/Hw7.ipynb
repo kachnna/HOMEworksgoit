{
 "cells": [
  {
   "cell_type": "code",
   "execution_count": null,
   "id": "60e353d2-47b2-48d0-a1e2-bdd34d4197ed",
   "metadata": {},
   "outputs": [],
   "source": [
    "from surprise import Dataset, SVD, SVDpp, NMF\n",
    "from surprise.model_selection import cross_validate, GridSearchCV"
   ]
  },
  {
   "cell_type": "markdown",
   "id": "18c98ed4-8c4c-4187-a7ad-68e07b84ff7f",
   "metadata": {},
   "source": [
    "Wczytanie danych MovieLens:"
   ]
  },
  {
   "cell_type": "code",
   "execution_count": null,
   "id": "73fcd092-cbdd-49b2-a8f9-9c88bc415779",
   "metadata": {},
   "outputs": [],
   "source": [
    "data = Dataset.load_builtin(\"ml-100k\", prompt=False)"
   ]
  },
  {
   "cell_type": "markdown",
   "id": "545c0542-1189-4620-bddd-c2bab8a9a1ec",
   "metadata": {},
   "source": [
    "Wybór najlepszych parametrów za pomocą walidacji krzyżowej dla SVD:"
   ]
  },
  {
   "cell_type": "code",
   "execution_count": null,
   "id": "fe18f5f3-af7e-4a33-b04e-5ce1d7ecdea9",
   "metadata": {},
   "outputs": [],
   "source": [
    "param_grid_svd  = {\"n_epochs\": [20, 30], \"lr_all\": [0.002, 0.005], \"reg_all\": [0.4, 0.6]}\n",
    "gs_svd = GridSearchCV(SVD, param_grid_svd, measures=['rmse'], cv=3)\n",
    "gs_svd.fit(data)\n",
    "\n",
    "print(\"Najlepszy wynik RMSE dla SVD:\", gs_svd.best_score[\"rmse\"])\n",
    "print(\"Najlepsze parametry dla SVD:\", gs_svd.best_params[\"rmse\"])\n",
    "\n",
    "algo_svd = SVD(n_epochs=gs_svd.best_params[\"rmse\"][\"n_epochs\"],\n",
    "               lr_all=gs_svd.best_params[\"rmse\"][\"lr_all\"],\n",
    "               reg_all=gs_svd.best_params[\"rmse\"][\"reg_all\"])\n",
    "results_svd = cross_validate(algo_svd, data, measures=[\"RMSE\", \"MAE\"], cv=3, verbose=True)"
   ]
  },
  {
   "cell_type": "markdown",
   "id": "fbc8cf04-0c3f-4d57-891c-64099d17d561",
   "metadata": {},
   "source": [
    "Wybór najlepszych parametrów za pomocą walidacji krzyżowej dla SVD++:"
   ]
  },
  {
   "cell_type": "code",
   "execution_count": null,
   "id": "178fa259-db3a-40e5-8ca3-4e7ea6040a83",
   "metadata": {},
   "outputs": [],
   "source": [
    "param_grid_svdpp = {\"n_epochs\": [20, 30], \"lr_all\": [0.002, 0.005], \"reg_all\": [0.4, 0.6]}\n",
    "gs_svdpp = GridSearchCV(SVDpp, param_grid_svdpp, measures=['rmse'], cv=3, n_jobs=-1)\n",
    "gs_svdpp.fit(data)\n",
    "\n",
    "print(\"Najlepszy wynik RMSE dla SVD++:\", gs_svdpp.best_score[\"rmse\"])\n",
    "print(\"Najlepsze parametry dla SVD++:\", gs_svdpp.best_params)\n",
    "\n",
    "algo_svdpp = SVDpp(n_epochs=gs_svdpp.best_params[\"n_epochs\"],\n",
    "                   lr_all=gs_svdpp.best_params[\"lr_all\"],\n",
    "                   reg_all=gs_svdpp.best_params[\"reg_all\"])\n",
    "results_svdpp = cross_validate(algo_svdpp, data, measures=[\"RMSE\", \"MAE\"], cv=3, verbose=True)\n"
   ]
  },
  {
   "cell_type": "markdown",
   "id": "6964c358-995a-4bcc-9887-82ef170e4187",
   "metadata": {},
   "source": [
    "Wybór najlepszych parametrów za pomocą walidacji krzyżowej dla NMF:"
   ]
  },
  {
   "cell_type": "code",
   "execution_count": null,
   "id": "f6c016f8-83cb-4493-8262-e959fe089f51",
   "metadata": {},
   "outputs": [],
   "source": [
    "param_grid_nmf = {\"n_epochs\": [20, 30], \"n_factors\": [15, 20], \"reg_pu\": [0.4, 0.6], \"reg_qi\": [0.4, 0.6]}\n",
    "gs_nmf = GridSearchCV(NMF, param_grid_nmf, measures=[\"rmse\"], cv=3)\n",
    "gs_nmf.fit(data)\n",
    "\n",
    "print(\"Najlepszy wynik RMSE dla NMF:\", gs_nmf.best_score[\"rmse\"])\n",
    "print(\"Najlepsze parametry dla NMF:\", gs_nmf.best_params[\"rmse\"])\n",
    "\n",
    "algo_nmf = NMF(n_epochs=gs_nmf.best_params[\"rmse\"][\"n_epochs\"],\n",
    "               n_factors=gs_nmf.best_params[\"rmse\"][\"n_factors\"],\n",
    "               reg_pu=gs_nmf.best_params[\"rmse\"][\"reg_pu\"],\n",
    "               reg_qi=gs_nmf.best_params[\"rmse\"][\"reg_qi\"])\n",
    "results_nmf = cross_validate(algo_nmf, data, measures=[\"RMSE\", \"MAE\"], cv=3, verbose=True)"
   ]
  },
  {
   "cell_type": "markdown",
   "id": "ba6f06c0-d2d4-434c-9063-046614dd0cf9",
   "metadata": {},
   "source": [
    "Porównanie wyników:"
   ]
  },
  {
   "cell_type": "code",
   "execution_count": null,
   "id": "36646f6a-0ec4-4cdd-a091-6cc77b72147b",
   "metadata": {},
   "outputs": [],
   "source": [
    "print(\"Wyniki SVD:\", results_svd)\n",
    "print(\"Wyniki SVD++:\", results_svdpp)\n",
    "print(\"Wyniki NMF:\", results_nmf)\n",
    "\n",
    "mean_rmse_svd = results_svd[\"test_rmse\"].mean()\n",
    "mean_mae_svd = results_svd[\"test_mae\"].mean()\n",
    "\n",
    "mean_rmse_svdpp = results_svdpp[\"test_rmse\"].mean()\n",
    "mean_mae_svdpp = results_svdpp[\"test_mae\"].mean()\n",
    "\n",
    "mean_rmse_nmf = results_nmf[\"test_rmse\"].mean()\n",
    "mean_mae_nmf = results_nmf[\"test_mae\"].mean()\n",
    "\n",
    "print(f\"SVD: RMSE={mean_rmse_svd}, MAE={mean_mae_svd}\")\n",
    "print(f\"SVD++: RMSE={mean_rmse_svdpp}, MAE={mean_mae_svdpp}\")\n",
    "print(f\"NMF: RMSE={mean_rmse_nmf}, MAE={mean_mae_nmf}\")"
   ]
  }
 ],
 "metadata": {
  "kernelspec": {
   "display_name": "Python 3 (ipykernel)",
   "language": "python",
   "name": "python3"
  },
  "language_info": {
   "codemirror_mode": {
    "name": "ipython",
    "version": 3
   },
   "file_extension": ".py",
   "mimetype": "text/x-python",
   "name": "python",
   "nbconvert_exporter": "python",
   "pygments_lexer": "ipython3",
   "version": "3.11.4"
  }
 },
 "nbformat": 4,
 "nbformat_minor": 5
}
