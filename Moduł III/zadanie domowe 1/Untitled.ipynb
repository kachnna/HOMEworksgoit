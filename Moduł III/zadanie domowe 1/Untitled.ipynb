{
 "cells": [
  {
   "cell_type": "code",
   "execution_count": 5,
   "id": "87665055-5b51-4fa4-a1bb-d16aa1d6c0b1",
   "metadata": {},
   "outputs": [],
   "source": [
    "import numpy as np"
   ]
  },
  {
   "cell_type": "markdown",
   "id": "f777995c-3683-488b-bcde-7fa52d553188",
   "metadata": {},
   "source": [
    "# Jednowymiarowa tablica z pierwszymi 10 dodatnimi liczbami całkowitymi"
   ]
  },
  {
   "cell_type": "code",
   "execution_count": 6,
   "id": "e6c20bd8-7e5b-4081-a160-a8ad1f16ed1b",
   "metadata": {},
   "outputs": [
    {
     "name": "stdout",
     "output_type": "stream",
     "text": [
      "Wektor z pierwszymi 10 dodatnimi liczbami całkowitymi: [ 1  2  3  4  5  6  7  8  9 10]\n"
     ]
    }
   ],
   "source": [
    "wektor_10 = np.arange(1, 11)\n",
    "print(\"Wektor z pierwszymi 10 dodatnimi liczbami całkowitymi:\", wektor_10)"
   ]
  }
 ],
 "metadata": {
  "kernelspec": {
   "display_name": "Python 3 (ipykernel)",
   "language": "python",
   "name": "python3"
  },
  "language_info": {
   "codemirror_mode": {
    "name": "ipython",
    "version": 3
   },
   "file_extension": ".py",
   "mimetype": "text/x-python",
   "name": "python",
   "nbconvert_exporter": "python",
   "pygments_lexer": "ipython3",
   "version": "3.11.4"
  }
 },
 "nbformat": 4,
 "nbformat_minor": 5
}
