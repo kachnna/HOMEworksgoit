{
 "cells": [
  {
   "cell_type": "code",
   "execution_count": 1,
   "id": "87665055-5b51-4fa4-a1bb-d16aa1d6c0b1",
   "metadata": {},
   "outputs": [],
   "source": [
    "import numpy as np"
   ]
  },
  {
   "cell_type": "markdown",
   "id": "f777995c-3683-488b-bcde-7fa52d553188",
   "metadata": {},
   "source": [
    "# 1. Jednowymiarowa tablica z pierwszymi 10 dodatnimi liczbami całkowitymi"
   ]
  },
  {
   "cell_type": "code",
   "execution_count": 2,
   "id": "e6c20bd8-7e5b-4081-a160-a8ad1f16ed1b",
   "metadata": {},
   "outputs": [
    {
     "name": "stdout",
     "output_type": "stream",
     "text": [
      "Wektor z pierwszymi 10 dodatnimi liczbami całkowitymi: [ 1  2  3  4  5  6  7  8  9 10]\n"
     ]
    }
   ],
   "source": [
    "wektor_10 = np.arange(1, 11)\n",
    "print(\"Wektor z pierwszymi 10 dodatnimi liczbami całkowitymi:\", wektor_10)"
   ]
  },
  {
   "cell_type": "markdown",
   "id": "162f1466-e09d-4574-b2c5-55b86dc56e06",
   "metadata": {},
   "source": [
    "# 2.  Dwuwymiarowa tablica 3x3 wypełniona zerami"
   ]
  },
  {
   "cell_type": "code",
   "execution_count": 3,
   "id": "d4d77157-4ba3-4237-9977-1c7756c2da74",
   "metadata": {},
   "outputs": [
    {
     "name": "stdout",
     "output_type": "stream",
     "text": [
      "Macierz 3x3 wypełniona zerami:\n",
      " [[0. 0. 0.]\n",
      " [0. 0. 0.]\n",
      " [0. 0. 0.]]\n"
     ]
    }
   ],
   "source": [
    "macierz_3x3 = np.zeros((3, 3))\n",
    "print(\"Macierz 3x3 wypełniona zerami:\\n\", macierz_3x3)"
   ]
  },
  {
   "cell_type": "markdown",
   "id": "b8e36e3a-c48c-44b1-803a-e350e9fdd46b",
   "metadata": {},
   "source": [
    "# 3. Utworzenie tablicy 5x5 wypełnionej losowymi liczbami całkowitymi z zakresu od 1 do 10"
   ]
  },
  {
   "cell_type": "code",
   "execution_count": 4,
   "id": "d9910524-a786-4e14-87d1-d566cc11862b",
   "metadata": {},
   "outputs": [
    {
     "name": "stdout",
     "output_type": "stream",
     "text": [
      "Macierz 5x5 wypełniona losowymi liczbami całkowitymi od 1 do 10:\n",
      " [[ 9  2  7  5  2]\n",
      " [ 5  7  1  1  8]\n",
      " [10  9  5  7 10]\n",
      " [ 8  8  6  9  2]\n",
      " [ 7  6  9  2  6]]\n"
     ]
    }
   ],
   "source": [
    "macierz_5x5 = np.random.randint(1, 11, (5, 5))\n",
    "print(\"Macierz 5x5 wypełniona losowymi liczbami całkowitymi od 1 do 10:\\n\", macierz_5x5)"
   ]
  },
  {
   "cell_type": "markdown",
   "id": "0e7e688a-8087-423e-a4e8-633fc8856d4c",
   "metadata": {},
   "source": [
    "# 4. Tablica 4x4 wypełniona losowymi liczbami rzeczywistymi od 0 do 1"
   ]
  },
  {
   "cell_type": "code",
   "execution_count": 5,
   "id": "10729697-d5cd-4206-8819-ce0e12d7b04f",
   "metadata": {},
   "outputs": [
    {
     "name": "stdout",
     "output_type": "stream",
     "text": [
      "Macierz 4x4 wypełniona losowymi liczbami rzeczywistymi od 0 do 1:\n",
      " [[0.48476955 0.01341529 0.20114074 0.14848266]\n",
      " [0.66264006 0.73569257 0.90112856 0.535683  ]\n",
      " [0.79804708 0.56963084 0.42723937 0.10904732]\n",
      " [0.96282636 0.16760569 0.04152976 0.21900337]]\n"
     ]
    }
   ],
   "source": [
    "macierz_4x4 = np.random.rand(4, 4)\n",
    "print(\"Macierz 4x4 wypełniona losowymi liczbami rzeczywistymi od 0 do 1:\\n\", macierz_4x4)"
   ]
  },
  {
   "cell_type": "markdown",
   "id": "58105c75-dbfb-4f1d-8511-54108372371f",
   "metadata": {},
   "source": [
    "# 5. Operacje na dwóch jednowymiarowych tablicach"
   ]
  },
  {
   "cell_type": "markdown",
   "id": "a6af6695-bd67-4fae-a37c-7daeb222685f",
   "metadata": {},
   "source": [
    "Dwie jednowymiarowe tablice o rozmiarze 5 z losowymi liczbami całkowitymi od 1 do 10"
   ]
  },
  {
   "cell_type": "code",
   "execution_count": 6,
   "id": "a3a01dee-3ac3-409f-adfb-95a97a8a2368",
   "metadata": {},
   "outputs": [],
   "source": [
    "wektor_5_1 = np.random.randint(1, 11, 5)\n",
    "wektor_5_2 = np.random.randint(1, 11, 5)"
   ]
  },
  {
   "cell_type": "markdown",
   "id": "7c3aa1e0-f011-4e85-ae91-0a2d79e9c2b5",
   "metadata": {},
   "source": [
    "Operacje arytmetyczne"
   ]
  },
  {
   "cell_type": "code",
   "execution_count": 7,
   "id": "77f3c987-a117-4a94-8a73-ce3e292b4461",
   "metadata": {},
   "outputs": [
    {
     "name": "stdout",
     "output_type": "stream",
     "text": [
      "Wektor 1: [10  4  7  6  3]\n",
      "Wektor 2: [ 4 10 10  5  7]\n",
      "Dodawanie: [14 14 17 11 10]\n",
      "Odejmowanie: [ 6 -6 -3  1 -4]\n",
      "Mnożenie: [40 40 70 30 21]\n"
     ]
    }
   ],
   "source": [
    "dodawanie = wektor_5_1 + wektor_5_2\n",
    "odejmowanie = wektor_5_1 - wektor_5_2\n",
    "mnożenie = wektor_5_1 * wektor_5_2\n",
    "\n",
    "print(\"Wektor 1:\", wektor_5_1)\n",
    "print(\"Wektor 2:\", wektor_5_2)\n",
    "print(\"Dodawanie:\", dodawanie)\n",
    "print(\"Odejmowanie:\", odejmowanie)\n",
    "print(\"Mnożenie:\", mnożenie)"
   ]
  },
  {
   "cell_type": "markdown",
   "id": "d1f4e32d-58d5-4159-9091-238f3be41d9e",
   "metadata": {},
   "source": [
    "# 6. Iloczyn skalarny dwóch wektorów"
   ]
  },
  {
   "cell_type": "markdown",
   "id": "b2e4082f-2f92-491e-ab95-ffbf2d3b4a5b",
   "metadata": {},
   "source": [
    "Dwa wektory o rozmiarze 7 z losowymi liczbami"
   ]
  },
  {
   "cell_type": "code",
   "execution_count": 8,
   "id": "db616783-6274-4385-951b-6a3847a35959",
   "metadata": {},
   "outputs": [],
   "source": [
    "wektor_7_1 = np.random.randint(1, 11, 7)\n",
    "wektor_7_2 = np.random.randint(1, 11, 7)"
   ]
  },
  {
   "cell_type": "markdown",
   "id": "f49e4134-8713-47b8-a515-8c1f835277fe",
   "metadata": {},
   "source": [
    "Iloczyn skalarny"
   ]
  },
  {
   "cell_type": "code",
   "execution_count": 9,
   "id": "b2639d23-966d-4b49-a009-fcbe52f9b790",
   "metadata": {},
   "outputs": [
    {
     "name": "stdout",
     "output_type": "stream",
     "text": [
      "Iloczyn skalarny: 192\n"
     ]
    }
   ],
   "source": [
    "iloczyn_skalarny = np.dot(wektor_7_1, wektor_7_2)\n",
    "print(\"Iloczyn skalarny:\", iloczyn_skalarny)"
   ]
  },
  {
   "cell_type": "markdown",
   "id": "67d19b74-ce12-4987-ab07-6f01a501074b",
   "metadata": {},
   "source": [
    "# 7. Mnożenie dwóch macierzy o rozmiarach 2x2 i 2x3"
   ]
  },
  {
   "cell_type": "markdown",
   "id": "5b2e9782-fdaa-40c8-b029-e78c547b153f",
   "metadata": {},
   "source": [
    "Dwie macierze o rozmiarach 2x2 i 2x3 z losowymi liczbami całkowitymi od 1 do 10"
   ]
  },
  {
   "cell_type": "code",
   "execution_count": 10,
   "id": "d6e0c4a6-9a4b-4d4a-a049-b4548e57de32",
   "metadata": {},
   "outputs": [],
   "source": [
    "macierz_2x2 = np.random.randint(1, 11, (2, 2))\n",
    "macierz_2x3 = np.random.randint(1, 11, (2, 3))"
   ]
  },
  {
   "cell_type": "markdown",
   "id": "d42fbad8-5b2f-428a-a062-d476810373b3",
   "metadata": {},
   "source": [
    "Mnożenie macierzy"
   ]
  },
  {
   "cell_type": "code",
   "execution_count": 11,
   "id": "6c61cddb-0cab-45a1-9873-e82af76465ac",
   "metadata": {},
   "outputs": [
    {
     "name": "stdout",
     "output_type": "stream",
     "text": [
      "Macierz 2x2:\n",
      " [[2 5]\n",
      " [1 6]]\n",
      "Macierz 2x3:\n",
      " [[5 2 8]\n",
      " [5 5 2]]\n",
      "Mnożenie macierzy 2x2 i 2x3:\n",
      " [[35 29 26]\n",
      " [35 32 20]]\n"
     ]
    }
   ],
   "source": [
    "mnozenie_macierzy = np.dot(macierz_2x2, macierz_2x3)\n",
    "print(\"Macierz 2x2:\\n\", macierz_2x2)\n",
    "print(\"Macierz 2x3:\\n\", macierz_2x3)\n",
    "print(\"Mnożenie macierzy 2x2 i 2x3:\\n\", mnozenie_macierzy)"
   ]
  },
  {
   "cell_type": "markdown",
   "id": "ba5e740a-e32f-4952-ac3b-c6fb71c4db33",
   "metadata": {},
   "source": [
    "# 8. Odwrócenie macierzy 3x3"
   ]
  },
  {
   "cell_type": "markdown",
   "id": "8ee0cfe0-57f3-495a-b578-edc83494aa18",
   "metadata": {},
   "source": [
    "Macierz 3x3 z losowymi liczbami całkowitymi od 1 do 10"
   ]
  },
  {
   "cell_type": "code",
   "execution_count": 12,
   "id": "9872494c-e3e1-4fce-89f5-19bc278b8656",
   "metadata": {},
   "outputs": [],
   "source": [
    "macierz_3x3 = np.random.randint(1, 11, (3, 3))"
   ]
  },
  {
   "cell_type": "markdown",
   "id": "39569957-8506-48ed-b8d1-d38b44674b2f",
   "metadata": {},
   "source": [
    "Odwrócenie macierzy"
   ]
  },
  {
   "cell_type": "code",
   "execution_count": 13,
   "id": "9ab11d80-cfbf-4319-97f5-44c6be85ec43",
   "metadata": {},
   "outputs": [
    {
     "name": "stdout",
     "output_type": "stream",
     "text": [
      "Macierz 3x3:\n",
      " [[8 5 8]\n",
      " [5 7 2]\n",
      " [1 4 4]]\n",
      "Odwrotność macierzy 3x3:\n",
      " [[ 0.11494253  0.06896552 -0.26436782]\n",
      " [-0.10344828  0.13793103  0.13793103]\n",
      " [ 0.07471264 -0.15517241  0.17816092]]\n"
     ]
    }
   ],
   "source": [
    "if np.linalg.det(macierz_3x3) != 0:\n",
    "    odwrocona_macierz_3x3 = np.linalg.inv(macierz_3x3)\n",
    "    print(\"Macierz 3x3:\\n\", macierz_3x3)\n",
    "    print(\"Odwrotność macierzy 3x3:\\n\", odwrocona_macierz_3x3)\n",
    "else:\n",
    "    print(\"Macierz 3x3 nie jest odwracalna:\\n\", macierz_3x3)"
   ]
  },
  {
   "cell_type": "markdown",
   "id": "a8bc0de5-e060-4ea0-8ad4-1795ced88bdd",
   "metadata": {},
   "source": [
    "# 9. Transpozycja macierzy 4x4"
   ]
  },
  {
   "cell_type": "markdown",
   "id": "2d095b87-450b-4c03-a501-aa1c3364233a",
   "metadata": {},
   "source": [
    "Macierz 4x4 z losowymi liczbami rzeczywistymi od 0 do 1"
   ]
  },
  {
   "cell_type": "code",
   "execution_count": 14,
   "id": "f8371733-bbd8-45b1-a504-6d53948bdcfd",
   "metadata": {},
   "outputs": [],
   "source": [
    "macierz_4x4 = np.random.rand(4, 4)"
   ]
  },
  {
   "cell_type": "markdown",
   "id": "cb681f52-9340-45e7-8b1f-d5ff0d2418f3",
   "metadata": {},
   "source": [
    "Transpozycja macierzy"
   ]
  },
  {
   "cell_type": "code",
   "execution_count": 15,
   "id": "cd5bce06-3d04-4735-97e5-d182a483cd97",
   "metadata": {},
   "outputs": [
    {
     "name": "stdout",
     "output_type": "stream",
     "text": [
      "Macierz 4x4:\n",
      " [[0.05747828 0.12701671 0.26384018 0.4768735 ]\n",
      " [0.58855965 0.79380463 0.17282979 0.90519146]\n",
      " [0.93078385 0.16220754 0.34987601 0.37936862]\n",
      " [0.19662786 0.46281368 0.04676071 0.22174715]]\n",
      "Transpozycja macierzy 4x4:\n",
      " [[0.05747828 0.58855965 0.93078385 0.19662786]\n",
      " [0.12701671 0.79380463 0.16220754 0.46281368]\n",
      " [0.26384018 0.17282979 0.34987601 0.04676071]\n",
      " [0.4768735  0.90519146 0.37936862 0.22174715]]\n"
     ]
    }
   ],
   "source": [
    "transponowana_macierz_4x4 = macierz_4x4.T\n",
    "print(\"Macierz 4x4:\\n\", macierz_4x4)\n",
    "print(\"Transpozycja macierzy 4x4:\\n\", transponowana_macierz_4x4)"
   ]
  },
  {
   "cell_type": "markdown",
   "id": "690fcdfc-e6ec-47fa-9f54-a6ac304faf39",
   "metadata": {},
   "source": [
    "# 10. Mnożenie macierzy 3x4 przez wektor o rozmiarze 4"
   ]
  },
  {
   "cell_type": "markdown",
   "id": "9f9e6ed4-93e8-408b-b410-783512ce740c",
   "metadata": {},
   "source": [
    "Macierz 3x4 i wektor o rozmiarze 4 z losowymi liczbami całkowitymi od 1 do 10"
   ]
  },
  {
   "cell_type": "code",
   "execution_count": 16,
   "id": "ada57c84-296e-41f2-9232-29a8c31ccc96",
   "metadata": {},
   "outputs": [],
   "source": [
    "macierz_3x4 = np.random.randint(1, 11, (3, 4))\n",
    "wektor_4 = np.random.randint(1, 11, 4)"
   ]
  },
  {
   "cell_type": "markdown",
   "id": "6ab6ab9e-0596-418c-9ca3-411f9c57e6b0",
   "metadata": {},
   "source": [
    "Mnożenie macierzy przez wektor"
   ]
  },
  {
   "cell_type": "code",
   "execution_count": 17,
   "id": "af98910f-2cb7-4c06-8d7e-8eb3316b760b",
   "metadata": {},
   "outputs": [
    {
     "name": "stdout",
     "output_type": "stream",
     "text": [
      "Macierz 3x4:\n",
      " [[8 7 5 5]\n",
      " [3 9 2 9]\n",
      " [3 2 6 9]]\n",
      "Wektor 4:\n",
      " [8 8 2 3]\n",
      "Mnożenie macierzy 3x4 przez wektor 4:\n",
      " [145 127  79]\n"
     ]
    }
   ],
   "source": [
    "mnozenie_macierzy_wektor = np.dot(macierz_3x4, wektor_4)\n",
    "print(\"Macierz 3x4:\\n\", macierz_3x4)\n",
    "print(\"Wektor 4:\\n\", wektor_4)\n",
    "print(\"Mnożenie macierzy 3x4 przez wektor 4:\\n\", mnozenie_macierzy_wektor)"
   ]
  },
  {
   "cell_type": "markdown",
   "id": "9ee68f97-e072-4fc2-b7a8-fda38249e40d",
   "metadata": {},
   "source": [
    "# 11. Mnożenie macierzy 2x3 przez wektor o rozmiarze 3"
   ]
  },
  {
   "cell_type": "markdown",
   "id": "00c2195f-25c6-4125-853b-cdb215709420",
   "metadata": {},
   "source": [
    "Macierz 2x3 i wektor o rozmiarze 3 z losowymi liczbami rzeczywistymi od 0 do 1"
   ]
  },
  {
   "cell_type": "code",
   "execution_count": 18,
   "id": "08c9e343-336b-45c0-8b8f-123a32aca81e",
   "metadata": {},
   "outputs": [],
   "source": [
    "macierz_2x3 = np.random.rand(2, 3)\n",
    "wektor_3 = np.random.rand(3)"
   ]
  },
  {
   "cell_type": "markdown",
   "id": "932a472a-74f9-4193-84b7-b47e69f81735",
   "metadata": {},
   "source": [
    "Mnożenie macierzy przez wektor"
   ]
  },
  {
   "cell_type": "code",
   "execution_count": 19,
   "id": "a1cd4683-bd09-4fac-be3a-6b762e43b198",
   "metadata": {},
   "outputs": [
    {
     "name": "stdout",
     "output_type": "stream",
     "text": [
      "Macierz 2x3:\n",
      " [[0.47080418 0.41063709 0.76827395]\n",
      " [0.56631541 0.79305    0.50717971]]\n",
      "Wektor 3:\n",
      " [0.84037952 0.98840086 0.63253343]\n",
      "Mnożenie macierzy 2x3 przez wektor 3:\n",
      " [1.28748719 1.5805793 ]\n"
     ]
    }
   ],
   "source": [
    "mnozenie_macierzy_wektor_2 = np.dot(macierz_2x3, wektor_3)\n",
    "print(\"Macierz 2x3:\\n\", macierz_2x3)\n",
    "print(\"Wektor 3:\\n\", wektor_3)\n",
    "print(\"Mnożenie macierzy 2x3 przez wektor 3:\\n\", mnozenie_macierzy_wektor_2)"
   ]
  },
  {
   "cell_type": "markdown",
   "id": "22648ed4-e083-4286-89af-49d6d857de69",
   "metadata": {},
   "source": [
    "# 12. Mnożenie pierwiastkowe dwóch macierzy 2x2"
   ]
  },
  {
   "cell_type": "markdown",
   "id": "3b827edd-b6fa-40fd-b5a9-8e8b934bae54",
   "metadata": {},
   "source": [
    "Dwie macierze 2x2 z losowymi liczbami całkowitymi od 1 do 10"
   ]
  },
  {
   "cell_type": "code",
   "execution_count": 20,
   "id": "a6cd6a6b-8893-4a76-8f4d-4df1322e43b2",
   "metadata": {},
   "outputs": [],
   "source": [
    "macierz_2x2_1 = np.random.randint(1, 11, (2, 2))\n",
    "macierz_2x2_2 = np.random.randint(1, 11, (2, 2))"
   ]
  },
  {
   "cell_type": "markdown",
   "id": "799a5d36-7fc3-42c3-a248-018da55b6cb7",
   "metadata": {},
   "source": [
    "Mnożenie pierwiastkowe (element-wise)"
   ]
  },
  {
   "cell_type": "code",
   "execution_count": 21,
   "id": "35070e77-ecfa-4c4b-88e2-6017e454d07b",
   "metadata": {},
   "outputs": [
    {
     "name": "stdout",
     "output_type": "stream",
     "text": [
      "Macierz 2x2_1:\n",
      " [[10 10]\n",
      " [ 2  7]]\n",
      "Macierz 2x2_2:\n",
      " [[10  2]\n",
      " [ 8 10]]\n",
      "Mnożenie pierwiastkowe macierzy 2x2:\n",
      " [[100  20]\n",
      " [ 16  70]]\n"
     ]
    }
   ],
   "source": [
    "mnozenie_pierwiastkowe = macierz_2x2_1 * macierz_2x2_2\n",
    "print(\"Macierz 2x2_1:\\n\", macierz_2x2_1)\n",
    "print(\"Macierz 2x2_2:\\n\", macierz_2x2_2)\n",
    "print(\"Mnożenie pierwiastkowe macierzy 2x2:\\n\", mnozenie_pierwiastkowe)"
   ]
  },
  {
   "cell_type": "markdown",
   "id": "5ea8310f-b5de-47f9-8913-b7cb04508277",
   "metadata": {},
   "source": [
    "# 13. Iloczyn dwóch macierzy 2x2"
   ]
  },
  {
   "cell_type": "markdown",
   "id": "dd7e9ace-16f0-429c-ab35-519e7c364b36",
   "metadata": {},
   "source": [
    "Dwie macierze 2x2 z losowymi liczbami całkowitymi od 1 do 10"
   ]
  },
  {
   "cell_type": "code",
   "execution_count": 22,
   "id": "7159071e-653e-4296-9638-18abe9eb369d",
   "metadata": {},
   "outputs": [],
   "source": [
    "macierz_2x2_1 = np.random.randint(1, 11, (2, 2))\n",
    "macierz_2x2_2 = np.random.randint(1, 11, (2, 2))"
   ]
  },
  {
   "cell_type": "markdown",
   "id": "6282604b-f7e4-4f66-afd2-486f3ac6b3f8",
   "metadata": {},
   "source": [
    "Iloczyn macierzy"
   ]
  },
  {
   "cell_type": "code",
   "execution_count": 23,
   "id": "43d5aa14-80cf-4b9a-a121-12a4d4f0dc3b",
   "metadata": {},
   "outputs": [
    {
     "name": "stdout",
     "output_type": "stream",
     "text": [
      "Macierz 2x2_1:\n",
      " [[9 7]\n",
      " [7 5]]\n",
      "Macierz 2x2_2:\n",
      " [[7 8]\n",
      " [7 3]]\n",
      "Iloczyn macierzy 2x2:\n",
      " [[112  93]\n",
      " [ 84  71]]\n"
     ]
    }
   ],
   "source": [
    "iloczyn_macierzy = np.dot(macierz_2x2_1, macierz_2x2_2)\n",
    "print(\"Macierz 2x2_1:\\n\", macierz_2x2_1)\n",
    "print(\"Macierz 2x2_2:\\n\", macierz_2x2_2)\n",
    "print(\"Iloczyn macierzy 2x2:\\n\", iloczyn_macierzy)"
   ]
  },
  {
   "cell_type": "markdown",
   "id": "f19fcf63-ec46-4e9c-a396-2b31ef138397",
   "metadata": {},
   "source": [
    "# 14. Suma elementów macierzy 5x5"
   ]
  },
  {
   "cell_type": "markdown",
   "id": "78c55e96-b2f6-438a-b5da-36516882c35e",
   "metadata": {},
   "source": [
    " Macierz 5x5 z losowymi liczbami całkowitymi od 1 do 100"
   ]
  },
  {
   "cell_type": "code",
   "execution_count": 24,
   "id": "a39acbb8-01f4-4c31-8882-efd4df75f486",
   "metadata": {},
   "outputs": [],
   "source": [
    "macierz_5x5 = np.random.randint(1, 101, (5, 5))"
   ]
  },
  {
   "cell_type": "markdown",
   "id": "50d11abc-fab8-4214-bad2-28726a542c72",
   "metadata": {},
   "source": [
    "Suma elementów macierzy"
   ]
  },
  {
   "cell_type": "code",
   "execution_count": 25,
   "id": "a06b3ed2-ba71-47a4-8de5-dff85677f258",
   "metadata": {},
   "outputs": [
    {
     "name": "stdout",
     "output_type": "stream",
     "text": [
      "Macierz 5x5:\n",
      " [[ 12  55 100  66  65]\n",
      " [ 78  50  70  80  67]\n",
      " [ 20   9  44  88  14]\n",
      " [ 70   5  51  39  68]\n",
      " [ 48  75  40  40  73]]\n",
      "Suma elementów macierzy 5x5: 1327\n"
     ]
    }
   ],
   "source": [
    "suma_elementow = np.sum(macierz_5x5)\n",
    "print(\"Macierz 5x5:\\n\", macierz_5x5)\n",
    "print(\"Suma elementów macierzy 5x5:\", suma_elementow)"
   ]
  },
  {
   "cell_type": "markdown",
   "id": "0a6dcf1b-4383-4a42-84bc-8cecb8492fa1",
   "metadata": {},
   "source": [
    "# 15. Różnica dwóch macierzy 4x4"
   ]
  },
  {
   "cell_type": "markdown",
   "id": "baa0bbb7-3d31-4c9c-b5a7-7bf640bce12e",
   "metadata": {},
   "source": [
    "Dwie macierze 4x4 z losowymi liczbami całkowitymi od 1 do 10"
   ]
  },
  {
   "cell_type": "code",
   "execution_count": 26,
   "id": "a773131e-6364-4b38-9cf9-d7a2bbee31a1",
   "metadata": {},
   "outputs": [],
   "source": [
    "macierz_4x4_1 = np.random.randint(1, 11, (4, 4))\n",
    "macierz_4x4_2 = np.random.randint(1, 11, (4, 4))"
   ]
  },
  {
   "cell_type": "markdown",
   "id": "3b180ed7-27d1-4d7a-ac17-06de08a47815",
   "metadata": {},
   "source": [
    "Różnica macierzy"
   ]
  },
  {
   "cell_type": "code",
   "execution_count": 27,
   "id": "f1f28dbf-82dc-4d14-b571-20b3619b6690",
   "metadata": {},
   "outputs": [
    {
     "name": "stdout",
     "output_type": "stream",
     "text": [
      "Macierz 4x4_1:\n",
      " [[ 2  8  8  7]\n",
      " [ 8  4  7  2]\n",
      " [ 1  1  8 10]\n",
      " [ 3  5 10  9]]\n",
      "Macierz 4x4_2:\n",
      " [[ 3  2  5  5]\n",
      " [ 8  7  2 10]\n",
      " [ 3 10  5  7]\n",
      " [ 3  7  2  9]]\n",
      "Różnica macierzy 4x4:\n",
      " [[-1  6  3  2]\n",
      " [ 0 -3  5 -8]\n",
      " [-2 -9  3  3]\n",
      " [ 0 -2  8  0]]\n"
     ]
    }
   ],
   "source": [
    "roznica_macierzy = macierz_4x4_1 - macierz_4x4_2\n",
    "print(\"Macierz 4x4_1:\\n\", macierz_4x4_1)\n",
    "print(\"Macierz 4x4_2:\\n\", macierz_4x4_2)\n",
    "print(\"Różnica macierzy 4x4:\\n\", roznica_macierzy)"
   ]
  },
  {
   "cell_type": "markdown",
   "id": "a047d235-c3c8-4191-a141-b2d4bf5c4adf",
   "metadata": {},
   "source": [
    "# 16. Suma elementów każdego wiersza macierzy 3x3"
   ]
  },
  {
   "cell_type": "markdown",
   "id": "4ff8b236-5597-4693-96db-5cf477f7fa79",
   "metadata": {},
   "source": [
    "Macierz 3x3 z losowymi liczbami rzeczywistymi od 0 do 1"
   ]
  },
  {
   "cell_type": "code",
   "execution_count": 28,
   "id": "bde77e2e-8068-469d-bf59-9bb1cd24c97d",
   "metadata": {},
   "outputs": [],
   "source": [
    "macierz_3x3 = np.random.rand(3, 3)"
   ]
  },
  {
   "cell_type": "markdown",
   "id": "7e803593-c91f-44af-8985-0b737d4dcf99",
   "metadata": {},
   "source": [
    "Wektor kolumnowy zawierający sumę elementów każdego wiersza"
   ]
  },
  {
   "cell_type": "code",
   "execution_count": 29,
   "id": "6fadfbaa-2743-496b-93cf-1e23b9ea2daa",
   "metadata": {},
   "outputs": [
    {
     "name": "stdout",
     "output_type": "stream",
     "text": [
      "Macierz 3x3:\n",
      " [[0.48572515 0.43808077 0.28572458]\n",
      " [0.08528916 0.68824771 0.00185146]\n",
      " [0.27999881 0.44308949 0.04395428]]\n",
      "Suma elementów każdego wiersza: [1.2095305  0.77538833 0.76704258]\n"
     ]
    }
   ],
   "source": [
    "suma_wierszy = np.sum(macierz_3x3, axis=1)\n",
    "print(\"Macierz 3x3:\\n\", macierz_3x3)\n",
    "print(\"Suma elementów każdego wiersza:\", suma_wierszy)"
   ]
  },
  {
   "cell_type": "markdown",
   "id": "fda7dd6b-36ac-4d43-a448-32cb0293d21b",
   "metadata": {},
   "source": [
    "# 17. Utworzenie macierzy z kwadratami liczb z innej macierzy"
   ]
  },
  {
   "cell_type": "markdown",
   "id": "0d0a5e44-1517-4183-964c-160d9441c6a2",
   "metadata": {},
   "source": [
    "Macierz 3x4 z dowolnymi liczbami całkowitymi"
   ]
  },
  {
   "cell_type": "code",
   "execution_count": 30,
   "id": "3a8f5f7b-dc74-4aab-af45-72b902e876a9",
   "metadata": {},
   "outputs": [],
   "source": [
    "macierz_3x4 = np.array([[1, 2, 3, 4], [5, 6, 7, 8], [9, 10, 11, 12]])"
   ]
  },
  {
   "cell_type": "markdown",
   "id": "293687b4-3153-4d9c-8e86-2f63f09b55c3",
   "metadata": {},
   "source": [
    "Macierz z kwadratami tych liczb"
   ]
  },
  {
   "cell_type": "code",
   "execution_count": 31,
   "id": "2169ea52-bb01-43e3-a195-a455a549e432",
   "metadata": {},
   "outputs": [
    {
     "name": "stdout",
     "output_type": "stream",
     "text": [
      "Macierz 3x4:\n",
      " [[ 1  2  3  4]\n",
      " [ 5  6  7  8]\n",
      " [ 9 10 11 12]]\n",
      "Macierz z kwadratami tych liczb:\n",
      " [[  1   4   9  16]\n",
      " [ 25  36  49  64]\n",
      " [ 81 100 121 144]]\n"
     ]
    }
   ],
   "source": [
    "kwadraty_macierzy = macierz_3x4 ** 2\n",
    "print(\"Macierz 3x4:\\n\", macierz_3x4)\n",
    "print(\"Macierz z kwadratami tych liczb:\\n\", kwadraty_macierzy)"
   ]
  },
  {
   "cell_type": "markdown",
   "id": "c1059453-ee08-4d46-81bc-acec297ceb09",
   "metadata": {},
   "source": [
    "# 18. Wektor pierwiastków kwadratowych z liczb"
   ]
  },
  {
   "cell_type": "markdown",
   "id": "07e1aeb1-d887-4cc4-98aa-3ee4f47f98f1",
   "metadata": {},
   "source": [
    "Wektor o rozmiarze 4 z losowymi liczbami całkowitymi od 1 do 50"
   ]
  },
  {
   "cell_type": "code",
   "execution_count": 32,
   "id": "f30bf750-962b-4041-ab05-7efe53ffe6a1",
   "metadata": {},
   "outputs": [],
   "source": [
    "wektor_4 = np.random.randint(1, 51, 4)"
   ]
  },
  {
   "cell_type": "markdown",
   "id": "fdd15d11-c54b-492f-b02f-792065321c40",
   "metadata": {},
   "source": [
    "Wektor pierwiastków kwadratowych"
   ]
  },
  {
   "cell_type": "code",
   "execution_count": 33,
   "id": "def99d54-8483-4b04-8427-4f911417a06b",
   "metadata": {},
   "outputs": [
    {
     "name": "stdout",
     "output_type": "stream",
     "text": [
      "Wektor 4: [29 42 41 24]\n",
      "Pierwiastki kwadratowe wektora: [5.38516481 6.4807407  6.40312424 4.89897949]\n"
     ]
    }
   ],
   "source": [
    "pierwiastki_wektora = np.sqrt(wektor_4)\n",
    "print(\"Wektor 4:\", wektor_4)\n",
    "print(\"Pierwiastki kwadratowe wektora:\", pierwiastki_wektora)"
   ]
  }
 ],
 "metadata": {
  "kernelspec": {
   "display_name": "Python 3 (ipykernel)",
   "language": "python",
   "name": "python3"
  },
  "language_info": {
   "codemirror_mode": {
    "name": "ipython",
    "version": 3
   },
   "file_extension": ".py",
   "mimetype": "text/x-python",
   "name": "python",
   "nbconvert_exporter": "python",
   "pygments_lexer": "ipython3",
   "version": "3.11.4"
  }
 },
 "nbformat": 4,
 "nbformat_minor": 5
}
