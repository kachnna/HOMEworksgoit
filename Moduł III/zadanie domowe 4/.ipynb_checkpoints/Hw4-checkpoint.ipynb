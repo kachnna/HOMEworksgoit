{
 "cells": [
  {
   "cell_type": "code",
   "execution_count": 1,
   "id": "f473ba0c-3d68-40c7-bd0b-8d6890dfc138",
   "metadata": {},
   "outputs": [],
   "source": [
    "import pandas as pd\n",
    "import numpy as np\n",
    "from matplotlib import pyplot as plt\n",
    "%matplotlib inline"
   ]
  },
  {
   "cell_type": "markdown",
   "id": "a7fef7fd-79fd-4c81-9498-f50abbe5055f",
   "metadata": {},
   "source": [
    "# Zapoznanie się z danymi"
   ]
  },
  {
   "cell_type": "code",
   "execution_count": 4,
   "id": "28ad30f6-6b82-4798-887d-41aa14484e7d",
   "metadata": {},
   "outputs": [
    {
     "name": "stdout",
     "output_type": "stream",
     "text": [
      "   season  yr  mnth  holiday  weekday  workingday  weathersit       temp  \\\n",
      "0       1   0     1        0        6           0           2  14.110847   \n",
      "1       1   0     1        0        0           0           2  14.902598   \n",
      "2       1   0     1        0        1           1           1   8.050924   \n",
      "3       1   0     1        0        2           1           1   8.200000   \n",
      "4       1   0     1        0        3           1           1   9.305237   \n",
      "\n",
      "      atemp      hum  windspeed(mph)  windspeed(ms)   cnt  \n",
      "0  18.18125  80.5833       10.749882       4.805490   985  \n",
      "1  17.68695  69.6087       16.652113       7.443949   801  \n",
      "2   9.47025  43.7273       16.636703       7.437060  1349  \n",
      "3  10.60610  59.0435       10.739832       4.800998  1562  \n",
      "4  11.46350  43.6957       12.522300       5.597810  1600  \n"
     ]
    }
   ],
   "source": [
    "df = pd.read_csv(\"bikes_rent.csv\")\n",
    "print(df.head())"
   ]
  },
  {
   "cell_type": "code",
   "execution_count": null,
   "id": "fa081dc1-7f68-40e2-b73a-c37d2499ef2e",
   "metadata": {},
   "outputs": [],
   "source": []
  }
 ],
 "metadata": {
  "kernelspec": {
   "display_name": "Python 3 (ipykernel)",
   "language": "python",
   "name": "python3"
  },
  "language_info": {
   "codemirror_mode": {
    "name": "ipython",
    "version": 3
   },
   "file_extension": ".py",
   "mimetype": "text/x-python",
   "name": "python",
   "nbconvert_exporter": "python",
   "pygments_lexer": "ipython3",
   "version": "3.11.4"
  }
 },
 "nbformat": 4,
 "nbformat_minor": 5
}
